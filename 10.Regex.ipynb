{
 "metadata": {
  "language_info": {
   "codemirror_mode": {
    "name": "ipython",
    "version": 3
   },
   "file_extension": ".py",
   "mimetype": "text/x-python",
   "name": "python",
   "nbconvert_exporter": "python",
   "pygments_lexer": "ipython3",
   "version": "3.8.1"
  },
  "orig_nbformat": 4,
  "kernelspec": {
   "name": "python3",
   "display_name": "Python 3.8.1 64-bit ('jypyter-notebook-samples-JW1wqGD9-py3.8': poetry)"
  },
  "interpreter": {
   "hash": "b5019f1fd57e5c3eaa3604d83f00f0d6f2fe5cf053b693b16f8dd3bf0362f824"
  }
 },
 "nbformat": 4,
 "nbformat_minor": 2,
 "cells": [
  {
   "source": [
    "# Practicing with regex\n",
    "\n",
    "\n",
    "## Links\n",
    "\n",
    "source of the tutorial: https://automatetheboringstuff.com/2e/chapter7/\n",
    "\n",
    "official docs of \"re\" module https://docs.python.org/3.8/library/re.html# with examples:\n",
    "\n",
    "- checking for a pair\n",
    "- making a phone book\n",
    "- text mugling (mixing letters)\n",
    "- find all adverbs\n",
    "- writing a tokenizer\n",
    "\n",
    "## Raw string and why it is used in \"re\" module\n",
    "\n",
    "raw string (r\"\") is used for a backslash sign to be a backslash character and not\n",
    "an escaping character.\n",
    "\n",
    "## Special characters\n",
    "\n",
    "In regular expressions, the following characters have special meanings (if wished to use them in a string, they need to be escaped with a backslash sign \"\\\"):\n",
    "\n",
    ".  ^  $  *  +  ?  {  }  [  ]  \\  |  (  )\n",
    "\n",
    "\n",
    "## Special sequences:\n",
    "\n",
    "\\d - digit (any single numeral from 0 to 9)\n",
    "\n",
    "see a cheatsheet on regex here https://pythex.org/\n",
    "\n",
    "## Quantifiers:\n",
    "\n",
    "* \"*\"\t    0 or more (append ? for non-greedy)\n",
    "* \"+\"\t    1 or more (append ? for non-greedy)\n",
    "* \"?\"\t    0 or 1 (append ? for non-greedy)\n",
    "* \"{m}\"\t    exactly mm occurrences\n",
    "* \"{m, n}\"\tfrom m to n. m defaults to 0, n to infinity\n",
    "* \"{m, n}?\"\tfrom m to n, as few as possible\n",
    "\n",
    "## search() vs match()\n",
    "\n",
    "Python offers two different primitive operations based on regular expressions: re.match() checks for a match only at the beginning of the string, while re.search() checks for a match anywhere in the string (this is what Perl does by default).\n",
    "\n",
    "\n",
    "\n"
   ],
   "cell_type": "markdown",
   "metadata": {}
  },
  {
   "source": [
    "## Creating regex object\n",
    "\n",
    "All the regex functions in Python are in the re module. \n",
    "\n",
    "Documentation of re module: https://docs.python.org/3.8/library/re.html\n",
    "\n",
    "Passing a string value representing your regular expression to re.compile() returns a Regex pattern object (or simply, a Regex object)."
   ],
   "cell_type": "markdown",
   "metadata": {}
  },
  {
   "source": [
    "## Matching Regex Objects\n",
    "\n",
    "A Regex object’s search() method searches the string it is passed for any matches to the regex. The search() method will return None if the regex pattern is not found in the string. If the pattern is found, the search() method returns a Match object, which have a group() method that will return the actual matched text from the searched string.\n"
   ],
   "cell_type": "markdown",
   "metadata": {}
  },
  {
   "cell_type": "code",
   "execution_count": 20,
   "metadata": {},
   "outputs": [
    {
     "output_type": "stream",
     "name": "stdout",
     "text": [
      "Phone number found: 415-555-4242\n"
     ]
    }
   ],
   "source": [
    "import re\n",
    "\n",
    "phoneNumRegex = re.compile(r\"\\d\\d\\d-\\d\\d\\d-\\d\\d\\d\\d\")\n",
    "\n",
    "# mo stands for a match object\n",
    "# match() and search() methods return None if there is no match\n",
    "# use if statement to proceed further with a match\n",
    "mo = phoneNumRegex.search('My number is 415-555-4242.')\n",
    "if mo:\n",
    "    print('Phone number found: ' + mo.group())"
   ]
  },
  {
   "source": [
    "## Named groups\n",
    "\n",
    "syntax:  (?P<group_name>regexp)\n",
    "\n",
    "Note: P might stand for placeholder. More on this thread https://stackoverflow.com/questions/10059673/named-regular-expression-group-pgroup-nameregexp-what-does-p-stand-for\n",
    "\n"
   ],
   "cell_type": "markdown",
   "metadata": {}
  },
  {
   "cell_type": "code",
   "execution_count": 11,
   "metadata": {},
   "outputs": [
    {
     "output_type": "stream",
     "name": "stdout",
     "text": [
      "{'first_name': 'Malcolm', 'last_name': 'Reynolds'}\n('Malcolm', 'Reynolds')\nMalcolm\nReynolds\n"
     ]
    }
   ],
   "source": [
    "m = re.match(r\"(?P<first_name>\\w+) (?P<last_name>\\w+)\", \"Malcolm Reynolds\")\n",
    "print(m.groupdict())\n",
    "print(m.groups())\n",
    "print(m.group(\"first_name\"))\n",
    "print(m.group(\"last_name\"))"
   ]
  },
  {
   "source": [
    "## Delete text from the string (e.g from mail)"
   ],
   "cell_type": "markdown",
   "metadata": {}
  },
  {
   "cell_type": "code",
   "execution_count": 29,
   "metadata": {},
   "outputs": [
    {
     "output_type": "stream",
     "name": "stdout",
     "text": [
      "7\n18\ntony@tiger.net\n"
     ]
    }
   ],
   "source": [
    "email = \"tony@tiremove_thisger.net\"\n",
    "m = re.search(\"remove_this\", email)\n",
    "print(m.start())\n",
    "print(m.end())\n",
    "print(f\"{email[:m.start()]}{email[m.end():]}\")"
   ]
  },
  {
   "source": [
    "## Making a phone book example"
   ],
   "cell_type": "markdown",
   "metadata": {}
  },
  {
   "cell_type": "code",
   "execution_count": 59,
   "metadata": {},
   "outputs": [
    {
     "output_type": "stream",
     "name": "stdout",
     "text": [
      "1254\n3428\n7625\n4584\n"
     ]
    }
   ],
   "source": [
    "text = \"\"\"Ross McFluff: 834.345.1254 155 Elm Street\n",
    "\n",
    "Ronald Heathmore: 892.345.3428 436 Finley Avenue\n",
    "Frank Burger: 925.541.7625 662 South Dogwood Way\n",
    "  \n",
    "\n",
    "Heather Albrecht: 548.326.4584 919 Park Place\"\"\"\n",
    "\n",
    "entries = re.split(\"\\n+\\s*\", text)\n",
    "\n",
    "splitted_entries = [re.split(\":? \", entry, 3) for entry in entries]\n",
    "\n",
    "phone_num_regex = re.compile(r\"^(\\d{3})\\.(\\d{3})\\.(\\d+)$\")\n",
    "\n",
    "for entry in splitted_entries:\n",
    "    phone_num = entry[2]\n",
    "    last_numbers = phone_num_regex.search(phone_num).group(3)\n",
    "    print(last_numbers)\n",
    "    \n",
    "    \n",
    "\n"
   ]
  },
  {
   "cell_type": "code",
   "execution_count": null,
   "metadata": {},
   "outputs": [],
   "source": []
  }
 ]
}