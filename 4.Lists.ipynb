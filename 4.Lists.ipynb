{
 "cells": [
  {
   "cell_type": "markdown",
   "metadata": {},
   "source": [
    "## Lists in Python like arrays in JS can contain different types inside of itself, e.g. lists, tuple, dics, set, string, int, float etc"
   ]
  },
  {
   "cell_type": "code",
   "execution_count": 6,
   "metadata": {
    "collapsed": true
   },
   "outputs": [
    {
     "name": "stdout",
     "output_type": "stream",
     "text": [
      "[3, [1, 2], (3, 4), 'hello', {'name': 'Aleksei'}, 4.3, {'1', '3', '2'}]\n"
     ]
    }
   ],
   "source": [
    "a = [3, [1, 2], (3, 4), \"hello\", {\"name\": \"Aleksei\"}, 4.3, {\"1\", \"2\", \"3\"}]\n",
    "\n",
    "print(a)"
   ]
  },
  {
   "cell_type": "markdown",
   "metadata": {},
   "source": [
    "## Ways to create lists\n",
    "\n",
    "1. using [] brackets \n",
    "2. using list constructor\n",
    "3. using for loop\n",
    "4. using map\n",
    "5. using list comprehension"
   ]
  },
  {
   "cell_type": "code",
   "execution_count": 12,
   "metadata": {},
   "outputs": [
    {
     "name": "stdout",
     "output_type": "stream",
     "text": [
      "[1, 2, 4]\n",
      "[0, 1, 2]\n",
      "[0, 1, 2]\n",
      "[1.1772000000000002, 25.4448, 62.467200000000005, 4.9248, 7.322400000000001]\n",
      "[0, 1, 4, 9, 16, 25, 36, 49, 64, 81]\n"
     ]
    }
   ],
   "source": [
    "# using []\n",
    "list_brackets = [1,2,4]\n",
    "print(list_brackets)\n",
    "\n",
    "# using list constructor\n",
    "list_constr = list(range(3))\n",
    "print(list_constr)\n",
    "\n",
    "# using for loop\n",
    "list_for_loop = []\n",
    "for i in range(3):\n",
    "    list_for_loop.append(i)\n",
    "print(list_for_loop)\n",
    "\n",
    "# using map()\n",
    "txns = [1.09, 23.56, 57.84, 4.56, 6.78]\n",
    "TAX_RATE = .08\n",
    "def get_price_with_tax(txn):\n",
    "    return txn * (1 + TAX_RATE)\n",
    "final_prices = map(get_price_with_tax, txns)\n",
    "print(list(final_prices))\n",
    "\n",
    "# using list conprehensions\n",
    "squares = [i * i for i in range(10)]\n",
    "print(squares)\n"
   ]
  },
  {
   "cell_type": "markdown",
   "metadata": {},
   "source": [
    "## Append, Pop methods"
   ]
  },
  {
   "cell_type": "code",
   "execution_count": 7,
   "metadata": {
    "collapsed": true
   },
   "outputs": [
    {
     "name": "stdout",
     "output_type": "stream",
     "text": [
      "[3, [1, 2], (3, 4), 'hello', {'name': 'Aleksei'}, 4.3, {'1', '3', '2'}, 1]\n"
     ]
    }
   ],
   "source": [
    "a.append(1)\n",
    "print(a)"
   ]
  },
  {
   "cell_type": "code",
   "execution_count": 11,
   "metadata": {},
   "outputs": [
    {
     "name": "stdout",
     "output_type": "stream",
     "text": [
      "Help on built-in function index:\n",
      "\n",
      "index(value, start=0, stop=9223372036854775807, /) method of builtins.list instance\n",
      "    Return first index of value.\n",
      "    \n",
      "    Raises ValueError if the value is not present.\n",
      "\n",
      "[3, [1, 2], (3, 4), 'hello']\n"
     ]
    }
   ],
   "source": [
    "a.pop()\n",
    "help(a.index)\n",
    "print(a)"
   ]
  },
  {
   "cell_type": "markdown",
   "metadata": {},
   "source": [
    "## Way to change list items places with each other without any buffer"
   ]
  },
  {
   "cell_type": "code",
   "execution_count": 14,
   "metadata": {},
   "outputs": [
    {
     "name": "stdout",
     "output_type": "stream",
     "text": [
      "['banana', 'apple', 'microsoft']\n"
     ]
    }
   ],
   "source": [
    "b = [\"banana\", \"apple\", \"microsoft\"]\n",
    "print(b)"
   ]
  },
  {
   "cell_type": "code",
   "execution_count": 15,
   "metadata": {},
   "outputs": [
    {
     "name": "stdout",
     "output_type": "stream",
     "text": [
      "['microsoft', 'apple', 'banana']\n"
     ]
    }
   ],
   "source": [
    "# older way\n",
    "\n",
    "temp = b[0]\n",
    "b[0] = b[2]\n",
    "b[2] = temp\n",
    "print(b)"
   ]
  },
  {
   "cell_type": "code",
   "execution_count": 16,
   "metadata": {},
   "outputs": [
    {
     "name": "stdout",
     "output_type": "stream",
     "text": [
      "['banana', 'apple', 'microsoft']\n"
     ]
    }
   ],
   "source": [
    "# more pythonic way\n",
    "\n",
    "b[0], b[2] = b[2], b[0]\n",
    "print(b)"
   ]
  },
  {
   "cell_type": "markdown",
   "metadata": {},
   "source": [
    "## Ways to merge two lists (or tuple and list) into one (tuple or list)"
   ]
  },
  {
   "cell_type": "code",
   "execution_count": 5,
   "metadata": {},
   "outputs": [
    {
     "name": "stdout",
     "output_type": "stream",
     "text": [
      "['a', 'b', 'c', 'x', 'y', 'z']\n",
      "('a', 'b', 'c', 'x', 'y', 'z')\n"
     ]
    }
   ],
   "source": [
    "# both could be lists, or a tuple and a list\n",
    "#list_1 = [\"a\", \"b\", \"c\"]\n",
    "list_1 = (\"a\", \"b\", \"c\")\n",
    "list_2 = [\"x\", \"y\", \"z\"]\n",
    "\n",
    "# outcome could be a list or a tuple\n",
    "list_combined = [*list_1, *list_2]\n",
    "tuple_combined = (*list_1, *list_2)\n",
    "print(list_combined)\n",
    "print(tuple_combined)"
   ]
  },
  {
   "cell_type": "markdown",
   "metadata": {},
   "source": [
    "## Ways to copy the lists"
   ]
  },
  {
   "cell_type": "code",
   "execution_count": 1,
   "metadata": {},
   "outputs": [
    {
     "name": "stdout",
     "output_type": "stream",
     "text": [
      "original list is [1, 2, 3] which slot in memory is 4499494336\n",
      "copy list is [1, 2, 3] which slot in memory is 4499494144\n",
      "copy v2 list is [1, 2, 3] which slot in memory is 4499494784\n",
      "4499381952\n",
      "4499415552\n"
     ]
    }
   ],
   "source": [
    "# Below are the variant of a shalow copy (nested object still will reference original ones)\n",
    "# DEEP COPY EXAMPLE IS BELOW\n",
    "\n",
    "my_list = [1, 2, 3]\n",
    "\n",
    "# copy method\n",
    "my_list_copy = my_list.copy()\n",
    "\n",
    "# unpacking the list and packing into the new one\n",
    "my_list_copy_2 = [*my_list]\n",
    "\n",
    "# slots in memory for all of them are different => these are the true copies of the list not just different pointer to the same list\n",
    "\n",
    "print(f\"original list is {my_list} which slot in memory is {id(my_list)}\")\n",
    "print(f\"copy list is {my_list_copy} which slot in memory is {id(my_list_copy)}\")\n",
    "print(f\"copy v2 list is {my_list_copy_2} which slot in memory is {id(my_list_copy_2)}\")\n",
    "\n",
    "\n",
    "# DEEP COPY\n",
    "import copy\n",
    "\n",
    "my_list2 = [\n",
    "    {\n",
    "        \"a\": \"b\"\n",
    "    },\n",
    "    {\n",
    "        \"b\": \"c\"\n",
    "    }\n",
    "]\n",
    "\n",
    "my_list2_deep_copy = copy.deepcopy(my_list2)\n",
    "\n",
    "print(id(my_list2[0]))\n",
    "print(id(my_list2_deep_copy[0]))\n"
   ]
  },
  {
   "cell_type": "code",
   "execution_count": null,
   "metadata": {},
   "outputs": [],
   "source": []
  },
  {
   "cell_type": "markdown",
   "metadata": {},
   "source": [
    "## Ways to iterate through lists\n",
    "\n",
    "> https://www.pythonpool.com/python-iterate-through-list/"
   ]
  },
  {
   "cell_type": "markdown",
   "metadata": {},
   "source": [
    "### List comprehensions\n",
    "\n",
    "> https://realpython.com/list-comprehension-python/\n",
    "\n",
    "\n",
    "**Syntax**\n",
    "\n",
    "`new_list = [expression for member in iterable]`\n",
    "\n",
    "In addition to standard list creation, list comprehensions can also be used for mapping and filtering.\n",
    "\n",
    "As an added side benefit, whenever you use a list comprehension in Python, you won’t need to remember the proper order of arguments like you would when you call map()."
   ]
  },
  {
   "cell_type": "code",
   "execution_count": 13,
   "metadata": {},
   "outputs": [
    {
     "name": "stdout",
     "output_type": "stream",
     "text": [
      "[0, 2, 4, 6, 8, 10, 12, 14, 16, 18, 20, 22, 24, 26, 28, 30, 32, 34, 36, 38]\n"
     ]
    }
   ],
   "source": [
    "multiplied_by_two = [i * 2 for i in range(20)]\n",
    "print(multiplied_by_two)"
   ]
  },
  {
   "cell_type": "markdown",
   "metadata": {},
   "source": [
    "### List comprehensions with conditional logic (BASIC FILTERING)\n",
    "\n",
    "**Syntax**\n",
    "\n",
    "`new_list = [expression for member in iterable (if conditional)]`\n"
   ]
  },
  {
   "cell_type": "code",
   "execution_count": 17,
   "metadata": {},
   "outputs": [
    {
     "name": "stdout",
     "output_type": "stream",
     "text": [
      "['e', 'o', 'e', 'a', 'e', 'a', 'o', 'a']\n",
      "['T', 'h', 'r', 'c', 'k', 't', 'w', 'h', 'w', 's', 'n', 'm', 'd', 'T', 'd', 'c', 'm', 'b', 'c', 'k', 'f', 'r', 'm', 'M', 'r', 's', 'b', 'c', 's', 'h', 'm', 's', 's', 'd', 'h', 's', 'f', 'r', 'n', 'd', 's']\n"
     ]
    }
   ],
   "source": [
    "# conditional login inside the list comprehension\n",
    "sentence = 'the rocket came back from mars'\n",
    "vowels = [i for i in sentence if i in 'aeiou']\n",
    "print(vowels)\n",
    "\n",
    "# conditional login outside or the list comprehension\n",
    "sentence = 'The rocket, who was named Ted, came back \\\n",
    "from Mars because he missed his friends.'\n",
    "def is_consonant(letter):\n",
    "    vowels = 'aeiou'\n",
    "    return letter.isalpha() and letter.lower() not in vowels\n",
    "consonants = [i for i in sentence if is_consonant(i)]\n",
    "print(consonants)"
   ]
  },
  {
   "cell_type": "markdown",
   "metadata": {},
   "source": [
    "### List comprehensions with conditional logic (CHANGE THE VALUE BASED ON CONDITION)\n",
    "\n",
    "**Syntax**\n",
    "\n",
    "`new_list = [expression (if conditional) for member in iterable]`"
   ]
  },
  {
   "cell_type": "code",
   "execution_count": 18,
   "metadata": {},
   "outputs": [
    {
     "name": "stdout",
     "output_type": "stream",
     "text": [
      "[1.25, 0, 10.22, 3.78, 0, 1.16]\n"
     ]
    }
   ],
   "source": [
    "# replace negative prices with 0 and leave the positive values unchanged\n",
    "original_prices = [1.25, -9.45, 10.22, 3.78, -5.92, 1.16]\n",
    "prices = [i if i > 0 else 0 for i in original_prices]\n",
    "print(prices)\n"
   ]
  }
 ],
 "metadata": {
  "interpreter": {
   "hash": "1cc507c7169f8b7208f08a40a7cb8269aca6aa1ab607c310fa68919c02751732"
  },
  "kernelspec": {
   "display_name": "Python 3.8.1 64-bit",
   "language": "python",
   "name": "python3"
  },
  "language_info": {
   "codemirror_mode": {
    "name": "ipython",
    "version": 3
   },
   "file_extension": ".py",
   "mimetype": "text/x-python",
   "name": "python",
   "nbconvert_exporter": "python",
   "pygments_lexer": "ipython3",
   "version": "3.8.1"
  },
  "metadata": {
   "interpreter": {
    "hash": "f20d46b891776a1b494589babd6507b7dcbdd589b2392b8b3a7cd9a76e866e3f"
   }
  }
 },
 "nbformat": 4,
 "nbformat_minor": 2
}
