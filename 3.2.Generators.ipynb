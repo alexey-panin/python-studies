{
 "metadata": {
  "language_info": {
   "codemirror_mode": {
    "name": "ipython",
    "version": 3
   },
   "file_extension": ".py",
   "mimetype": "text/x-python",
   "name": "python",
   "nbconvert_exporter": "python",
   "pygments_lexer": "ipython3",
   "version": "3.8.1-final"
  },
  "orig_nbformat": 2,
  "kernelspec": {
   "name": "python381jvsc74a57bd0b5019f1fd57e5c3eaa3604d83f00f0d6f2fe5cf053b693b16f8dd3bf0362f824",
   "display_name": "Python 3.8.1 64-bit"
  }
 },
 "nbformat": 4,
 "nbformat_minor": 2,
 "cells": [
  {
   "source": [
    "## What is generators\n",
    "\n",
    "Generators are functions that return an iterable generator object. The values from the generator object are fetched one at a time instead of the full list together and hence to get the actual values you can use a **for-loop, using next() or list()** method."
   ],
   "cell_type": "markdown",
   "metadata": {}
  },
  {
   "cell_type": "code",
   "execution_count": 67,
   "metadata": {},
   "outputs": [
    {
     "output_type": "stream",
     "name": "stdout",
     "text": [
      "===first way===\nH\nE\nL\nL\nO\n===second way====\nH\nE\nL\nL\nO\ngenerator is exhausted\n===third way====\n['H', 'E', 'L', 'L', 'O']\n"
     ]
    }
   ],
   "source": [
    "def generator():\n",
    "    yield \"H\"\n",
    "    yield \"E\"\n",
    "    yield \"L\"\n",
    "    yield \"L\"\n",
    "    yield \"O\"\n",
    "\n",
    "# First way to get results, via for-loop\n",
    "print(\"===first way===\")\n",
    "\n",
    "test = generator()\n",
    "for i in test:\n",
    "    print(i)\n",
    "\n",
    "# Second way, using next() built in function. Return one value at a time. You should pass function itself, not test var\n",
    "#\n",
    "# note if I used same test variable in this second way, while calling next() on test I got an error. This is because\n",
    "# the previous for in loop already exhausted a generator. I needed to create a new generator object and use next() on it\n",
    "print(\"===second way====\")\n",
    "\n",
    "test2 = generator()\n",
    "try:\n",
    "    print(next(test2))\n",
    "    print(next(test2))\n",
    "    print(next(test2))\n",
    "    print(next(test2))\n",
    "    print(next(test2))\n",
    "    print(next(test2))\n",
    "except StopIteration as e:\n",
    "    print(\"generator is exhausted\")\n",
    "\n",
    "\n",
    "# Third way to get results, using build in list() function\n",
    "print(\"===third way====\")\n",
    "\n",
    "test2 = list(generator())\n",
    "print(test2)"
   ]
  },
  {
   "source": [
    "### Another example of generator"
   ],
   "cell_type": "markdown",
   "metadata": {}
  },
  {
   "cell_type": "code",
   "execution_count": 59,
   "metadata": {},
   "outputs": [
    {
     "output_type": "stream",
     "name": "stdout",
     "text": [
      "<generator object fun at 0x10f7373c0>\n0\n1\n"
     ]
    }
   ],
   "source": [
    "def fun(x):\n",
    "    n = 0\n",
    "    while n < x:\n",
    "        yield n\n",
    "        n += 1\n",
    "z = fun(10)\n",
    "print(z)\n",
    "print(next(z))\n",
    "print(next(z))"
   ]
  },
  {
   "cell_type": "code",
   "execution_count": null,
   "metadata": {},
   "outputs": [],
   "source": []
  }
 ]
}