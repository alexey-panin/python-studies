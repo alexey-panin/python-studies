{
 "cells": [
  {
   "cell_type": "markdown",
   "metadata": {},
   "source": [
    "# Links followed:\n",
    "\n",
    "- https://realpython.com/python-datetime/\n",
    "\n",
    "# General info\n",
    "\n",
    "## IANA\n",
    "\n",
    "The Internet Assigned Numbers Authority (IANA) maintains a database of all of the values of time zone offsets. IANA also releases regular updates that include any changes in time zone offsets. The database contains a copy of all the designated time zones and how many hours and minutes they’re offset from UTC.\n",
    "\n",
    "## ISO 8601\n",
    "\n",
    "To help avoid communication mistakes, the International Organization for Standardization (ISO) developed ISO 8601. This standard specifies that all dates should be written in order of most-to-least-significant data. This means the format is year, month, day, hour, minute, and second:\n",
    "\n",
    "```\n",
    "YYYY-MM-DD HH:MM:SS\n",
    "```\n",
    "\n",
    "## How time should be stored in your program\n",
    "> https://realpython.com/python-datetime/#how-time-should-be-stored-in-your-program\n",
    "\n",
    "Most developers who have worked with time have heard the advice to convert local time to UTC and store that value for later reference. In many cases, especially when you’re storing dates from the past, this is enough information to do any necessary arithmetic.\n",
    "\n",
    "However, a problem can happen if a user of your program inputs a future date in their local time. Time zone and daylight saving time rules change fairly frequently, as you saw earlier with the 2007 change in daylight saving time for the United States and Canada. If the time zone rules for your user’s location change before the future date that they inputted, then UTC won’t provide enough information to convert back to the correct local time.\n",
    "\n",
    "## Naive vs Aware Datetime\n",
    "\n",
    "> https://realpython.com/python-datetime/#comparing-naive-and-aware-python-datetime-instances"
   ]
  },
  {
   "cell_type": "code",
   "execution_count": 1,
   "metadata": {},
   "outputs": [
    {
     "data": {
      "text/plain": [
       "1643059741.409748"
      ]
     },
     "execution_count": 1,
     "metadata": {},
     "output_type": "execute_result"
    }
   ],
   "source": [
    "# Get epoch time\n",
    "\n",
    "import time\n",
    "time.time()"
   ]
  },
  {
   "cell_type": "markdown",
   "metadata": {},
   "source": [
    "## Getting UTC timestamp\n",
    "\n",
    "**Warning**: datetime also provides datetime.utcnow(), which returns an instance of datetime at the current UTC. However, the Python documentation recommends against using this method because it doesn’t include any time zone information in the resulting instance.\n",
    "\n",
    "Using datetime.utcnow() may produce some surprising results when doing arithmetic or comparisons between datetime instances. In a later section, you’ll see how to assign time zone information to datetime instances."
   ]
  },
  {
   "cell_type": "code",
   "execution_count": 26,
   "metadata": {},
   "outputs": [
    {
     "name": "stdout",
     "output_type": "stream",
     "text": [
      "=========Naive datetime==========\n",
      "2022-01-25T08:49:04.905687\n",
      "2022-01-25T06:49:04.905800\n",
      "=========Aware datetime==========\n",
      "2022-01-25T06:49:04.906019+00:00\n",
      "=========Different timespecs==========\n",
      "2022-01-25T06:49:04.906019+00:00\n",
      "2022-01-25T06:49:04.906+00:00\n",
      "2022-01-25T06:49:04+00:00\n"
     ]
    }
   ],
   "source": [
    "from datetime import datetime\n",
    "\n",
    "print(\"=========Naive datetime==========\")\n",
    "# naive datetime\n",
    "now = datetime.now()\n",
    "print(now.isoformat())\n",
    "\n",
    "# still naive datetime\n",
    "# even though method includes name of UTC,\n",
    "# it still doesn't include this info in \n",
    "# resulting datetime instance and if you\n",
    "# output it in isoformat\n",
    "utc_now = datetime.utcnow()\n",
    "print(utc_now.isoformat())\n",
    "\n",
    "\n",
    "print(\"=========Aware datetime==========\")\n",
    "# aware datetime\n",
    "# proper way to put UTC time is this:\n",
    "from dateutil import tz\n",
    "now = datetime.now(tz=tz.UTC)\n",
    "print(now.isoformat())\n",
    "\n",
    "\n",
    "print(\"=========Different timespecs==========\")\n",
    "# you can specify whether to include\n",
    "# 6 digits of microseconds, or\n",
    "# only 3 milliseconds, or not include\n",
    "# milli/micro seconds at all and to have\n",
    "# just seconds to be last part\n",
    "print(now.isoformat(timespec=\"microseconds\"))\n",
    "print(now.isoformat(timespec=\"milliseconds\"))\n",
    "print(now.isoformat(timespec=\"seconds\"))\n"
   ]
  },
  {
   "cell_type": "code",
   "execution_count": 19,
   "metadata": {},
   "outputs": [
    {
     "name": "stdout",
     "output_type": "stream",
     "text": [
      "2022-01-25\n"
     ]
    },
    {
     "data": {
      "text/plain": [
       "datetime.datetime(2022, 1, 25, 0, 0, 21)"
      ]
     },
     "execution_count": 19,
     "metadata": {},
     "output_type": "execute_result"
    }
   ],
   "source": [
    "from datetime import date, time, datetime\n",
    "today = date.today()\n",
    "today\n",
    "\n",
    "now = datetime.now()\n",
    "now\n",
    "\n",
    "current_time = time(now.hour, now.minute, now.second)\n",
    "datetime.combine(today, current_time)"
   ]
  },
  {
   "cell_type": "code",
   "execution_count": null,
   "metadata": {},
   "outputs": [],
   "source": []
  }
 ],
 "metadata": {
  "interpreter": {
   "hash": "1cc507c7169f8b7208f08a40a7cb8269aca6aa1ab607c310fa68919c02751732"
  },
  "kernelspec": {
   "display_name": "Python 3.8.1 64-bit ('jypyter-notebook-samples-JW1wqGD9-py3.8': poetry)",
   "language": "python",
   "name": "python3"
  },
  "language_info": {
   "codemirror_mode": {
    "name": "ipython",
    "version": 3
   },
   "file_extension": ".py",
   "mimetype": "text/x-python",
   "name": "python",
   "nbconvert_exporter": "python",
   "pygments_lexer": "ipython3",
   "version": "3.8.1"
  },
  "orig_nbformat": 4
 },
 "nbformat": 4,
 "nbformat_minor": 2
}
