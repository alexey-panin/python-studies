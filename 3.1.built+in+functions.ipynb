{
 "metadata": {
  "language_info": {
   "codemirror_mode": {
    "name": "ipython",
    "version": 3
   },
   "file_extension": ".py",
   "mimetype": "text/x-python",
   "name": "python",
   "nbconvert_exporter": "python",
   "pygments_lexer": "ipython3",
   "version": "3.8.1-final"
  },
  "orig_nbformat": 2,
  "kernelspec": {
   "name": "python381jvsc74a57bd0b5019f1fd57e5c3eaa3604d83f00f0d6f2fe5cf053b693b16f8dd3bf0362f824",
   "display_name": "Python 3.8.1 64-bit"
  }
 },
 "nbformat": 4,
 "nbformat_minor": 2,
 "cells": [
  {
   "cell_type": "code",
   "execution_count": 1,
   "metadata": {},
   "outputs": [],
   "source": [
    "list_of_items = [1, 2, 3, 4, 5]"
   ]
  },
  {
   "source": [
    "Lambda is like a an arrow, noname functions in JS"
   ],
   "cell_type": "markdown",
   "metadata": {}
  },
  {
   "source": [
    "## map"
   ],
   "cell_type": "markdown",
   "metadata": {}
  },
  {
   "cell_type": "code",
   "execution_count": 2,
   "metadata": {},
   "outputs": [
    {
     "output_type": "stream",
     "name": "stdout",
     "text": [
      "[2, 4, 6, 8, 10]\n"
     ]
    }
   ],
   "source": [
    "map_result = map(lambda x: x + x, list_of_items)\n",
    "print(list(map_result))"
   ]
  },
  {
   "source": [
    "## filter"
   ],
   "cell_type": "markdown",
   "metadata": {}
  },
  {
   "cell_type": "code",
   "execution_count": 4,
   "metadata": {},
   "outputs": [
    {
     "output_type": "stream",
     "name": "stdout",
     "text": [
      "[3, 4, 5]\n"
     ]
    }
   ],
   "source": [
    "filter_result = filter(lambda x: x >= 3, list_of_items)\n",
    "print(list(filter_result))"
   ]
  },
  {
   "source": [
    "## dir\n",
    "\n",
    "to examine directory of an object\n"
   ],
   "cell_type": "markdown",
   "metadata": {}
  },
  {
   "cell_type": "code",
   "execution_count": 8,
   "metadata": {},
   "outputs": [
    {
     "output_type": "stream",
     "name": "stdout",
     "text": [
      "Help on method_descriptor:\n\ncenter(self, width, fillchar=' ', /)\n    Return a centered string of length width.\n    \n    Padding is done using the specified fill character (default is a space).\n\n"
     ]
    }
   ],
   "source": [
    "# print(dir(str))\n",
    "\n",
    "# print(str.__doc__)\n",
    "\n",
    "# help(str)\n",
    "help(str.center)"
   ]
  },
  {
   "source": [
    "## help\n",
    "\n",
    "prints help about objects"
   ],
   "cell_type": "markdown",
   "metadata": {}
  },
  {
   "cell_type": "code",
   "execution_count": 10,
   "metadata": {},
   "outputs": [
    {
     "output_type": "stream",
     "name": "stdout",
     "text": [
      "Help on method_descriptor:\n\ncenter(self, width, fillchar=' ', /)\n    Return a centered string of length width.\n    \n    Padding is done using the specified fill character (default is a space).\n\n"
     ]
    }
   ],
   "source": [
    "# print help of the entire class\n",
    "# help(str)\n",
    "\n",
    "# prints help on one method only\n",
    "help(str.center)"
   ]
  },
  {
   "source": [
    "## iter\n",
    "\n",
    "create an iterator from an iterable (see side_notes to learn more).S"
   ],
   "cell_type": "markdown",
   "metadata": {}
  },
  {
   "cell_type": "code",
   "execution_count": 2,
   "metadata": {},
   "outputs": [
    {
     "output_type": "stream",
     "name": "stdout",
     "text": [
      "h\ne\nl\n"
     ]
    }
   ],
   "source": [
    "my_str_iter = iter(\"hello world\")\n",
    "\n",
    "print(next(my_str_iter))\n",
    "print(next(my_str_iter))\n",
    "\n"
   ]
  },
  {
   "cell_type": "code",
   "execution_count": null,
   "metadata": {},
   "outputs": [],
   "source": []
  }
 ]
}