{
 "cells": [
  {
   "cell_type": "markdown",
   "metadata": {},
   "source": [
    "## Measuring execution time of small bits of Python code"
   ]
  },
  {
   "cell_type": "code",
   "execution_count": 1,
   "metadata": {},
   "outputs": [
    {
     "name": "stdout",
     "output_type": "stream",
     "text": [
      "0-1-2-3-4-5-6-7-8-9-10-11-12-13-14-15-16-17-18-19-20-21-22-23-24-25-26-27-28-29-30-31-32-33-34-35-36-37-38-39-40-41-42-43-44-45-46-47-48-49-50-51-52-53-54-55-56-57-58-59-60-61-62-63-64-65-66-67-68-69-70-71-72-73-74-75-76-77-78-79-80-81-82-83-84-85-86-87-88-89-90-91-92-93-94-95-96-97-98-99\n"
     ]
    },
    {
     "data": {
      "text/plain": [
       "0.2532839549999153"
      ]
     },
     "execution_count": 1,
     "metadata": {},
     "output_type": "execute_result"
    }
   ],
   "source": [
    "test = \"-\".join(str(n) for n in range(100))\n",
    "print(test)\n",
    "import timeit\n",
    "\n",
    "timeit.timeit('\"-\".join(str(n) for n in range(100))',\n",
    "                  number=10000)"
   ]
  },
  {
   "cell_type": "markdown",
   "metadata": {},
   "source": [
    "## When to use yield instead of return in Python?"
   ]
  },
  {
   "cell_type": "code",
   "execution_count": 5,
   "metadata": {},
   "outputs": [
    {
     "name": "stdout",
     "output_type": "stream",
     "text": [
      "the 0th iteration: 1\n",
      "the 1th iteration: 2\n",
      "the 2th iteration: 3\n"
     ]
    }
   ],
   "source": [
    "# A Simple Python program to demonstrate working\n",
    "# of yield\n",
    "  \n",
    "# A generator function that yields 1 for the first time,\n",
    "# 2 second time and 3 third time\n",
    "def simpleGeneratorFun():\n",
    "    yield 1\n",
    "    yield 2\n",
    "    yield 3\n",
    "  \n",
    "# Driver code to check above generator function\n",
    "for count, value in enumerate(simpleGeneratorFun()):\n",
    "    print(f\"the {count}th iteration: {value}\")"
   ]
  },
  {
   "cell_type": "code",
   "execution_count": 15,
   "metadata": {},
   "outputs": [
    {
     "name": "stdout",
     "output_type": "stream",
     "text": [
      "1\n",
      "4\n",
      "9\n",
      "16\n",
      "25\n",
      "36\n",
      "49\n",
      "64\n",
      "81\n",
      "100\n"
     ]
    },
    {
     "data": {
      "text/plain": [
       "4"
      ]
     },
     "execution_count": 15,
     "metadata": {},
     "output_type": "execute_result"
    }
   ],
   "source": [
    "\n",
    "# A Python program to generate squares from 1\n",
    "# to 100 using yield and therefore generator\n",
    "  \n",
    "# An infinite generator function that prints\n",
    "# next square number. It starts with 1\n",
    "def nextSquare():\n",
    "    i = 1;\n",
    "  \n",
    "    # An Infinite loop to generate squares \n",
    "    while True:\n",
    "        yield i*i                \n",
    "        i += 1  # Next execution resumes \n",
    "                # from this point     \n",
    "  \n",
    "# Driver code to test above generator \n",
    "# function\n",
    "for num in nextSquare():\n",
    "    if num > 100:\n",
    "         break    \n",
    "    print(num)\n",
    "\n"
   ]
  },
  {
   "cell_type": "markdown",
   "metadata": {},
   "source": [
    "## Example of documenting a class with a docstring"
   ]
  },
  {
   "cell_type": "code",
   "execution_count": 10,
   "metadata": {},
   "outputs": [
    {
     "name": "stdout",
     "output_type": "stream",
     "text": [
      "Help on class ComplexNumber in module __main__:\n",
      "\n",
      "class ComplexNumber(builtins.object)\n",
      " |  ComplexNumber(real, imag)\n",
      " |  \n",
      " |  This is a class for mathematical operations on complex numbers.\n",
      " |  \n",
      " |  Attributes:\n",
      " |          real (int): The real part of complex number.\n",
      " |          imag (int): The imaginary part of complex number.\n",
      " |  \n",
      " |  Methods defined here:\n",
      " |  \n",
      " |  __init__(self, real, imag)\n",
      " |      The constructor for ComplexNumber class.\n",
      " |      \n",
      " |      Parameters:\n",
      " |      real (int): The real part of complex number.\n",
      " |      imag (int): The imaginary part of complex number.\n",
      " |  \n",
      " |  add(self, num)\n",
      " |      The function to add two Complex Numbers.\n",
      " |      \n",
      " |      Parameters:\n",
      " |              num (ComplexNumber): The complex number to be added.\n",
      " |      \n",
      " |      Returns:\n",
      " |              ComplexNumber: A complex number which contains the sum.\n",
      " |  \n",
      " |  ----------------------------------------------------------------------\n",
      " |  Data descriptors defined here:\n",
      " |  \n",
      " |  __dict__\n",
      " |      dictionary for instance variables (if defined)\n",
      " |  \n",
      " |  __weakref__\n",
      " |      list of weak references to the object (if defined)\n",
      "\n",
      "Help on function add in module __main__:\n",
      "\n",
      "add(self, num)\n",
      "    The function to add two Complex Numbers.\n",
      "    \n",
      "    Parameters:\n",
      "            num (ComplexNumber): The complex number to be added.\n",
      "    \n",
      "    Returns:\n",
      "            ComplexNumber: A complex number which contains the sum.\n",
      "\n"
     ]
    }
   ],
   "source": [
    "class ComplexNumber:\n",
    "\t\"\"\"\n",
    "\tThis is a class for mathematical operations on complex numbers.\n",
    "\t\n",
    "\tAttributes:\n",
    "\t\treal (int): The real part of complex number.\n",
    "\t\timag (int): The imaginary part of complex number.\n",
    "\t\"\"\"\n",
    "\n",
    "\tdef __init__(self, real, imag):\n",
    "\t\t\"\"\"\n",
    "\t\tThe constructor for ComplexNumber class.\n",
    "\n",
    "\t\tParameters:\n",
    "\t\treal (int): The real part of complex number.\n",
    "\t\timag (int): The imaginary part of complex number.\n",
    "\t\t\"\"\"\n",
    "\n",
    "\tdef add(self, num):\n",
    "\t\t\"\"\"\n",
    "\t\tThe function to add two Complex Numbers.\n",
    "\n",
    "\t\tParameters:\n",
    "\t\t\tnum (ComplexNumber): The complex number to be added.\n",
    "\t\t\n",
    "\t\tReturns:\n",
    "\t\t\tComplexNumber: A complex number which contains the sum.\n",
    "\t\t\"\"\"\n",
    "\n",
    "\t\tre = self.real + num.real\n",
    "\t\tim = self.imag + num.imag\n",
    "\n",
    "\t\treturn ComplexNumber(re, im)\n",
    "\n",
    "help(ComplexNumber) # to access Class docstring\n",
    "help(ComplexNumber.add) # to access method's docstring\n"
   ]
  },
  {
   "cell_type": "code",
   "execution_count": 11,
   "metadata": {},
   "outputs": [
    {
     "name": "stdout",
     "output_type": "stream",
     "text": [
      "Help on built-in function dir in module builtins:\n",
      "\n",
      "dir(...)\n",
      "    dir([object]) -> list of strings\n",
      "    \n",
      "    If called without an argument, return the names in the current scope.\n",
      "    Else, return an alphabetized list of names comprising (some of) the attributes\n",
      "    of the given object, and of attributes reachable from it.\n",
      "    If the object supplies a method named __dir__, it will be used; otherwise\n",
      "    the default dir() logic is used and returns:\n",
      "      for a module object: the module's attributes.\n",
      "      for a class object:  its attributes, and recursively the attributes\n",
      "        of its bases.\n",
      "      for any other object: its attributes, its class's attributes, and\n",
      "        recursively the attributes of its class's base classes.\n",
      "\n"
     ]
    }
   ],
   "source": [
    "help(dir)"
   ]
  },
  {
   "cell_type": "markdown",
   "metadata": {},
   "source": [
    "## Getting Epoch time"
   ]
  },
  {
   "cell_type": "code",
   "execution_count": 77,
   "metadata": {},
   "outputs": [
    {
     "name": "stdout",
     "output_type": "stream",
     "text": [
      "1619469803741\n",
      "740928\n"
     ]
    }
   ],
   "source": [
    "from datetime import datetime\n",
    "import time\n",
    "\n",
    "# time in milliseconds from epoch\n",
    "print(round(time.time() * 1000))\n",
    "\n",
    "# for some reason, it is harder to get it using datetime module"
   ]
  },
  {
   "cell_type": "code",
   "execution_count": 19,
   "metadata": {},
   "outputs": [
    {
     "name": "stdout",
     "output_type": "stream",
     "text": [
      "2021-12-01 15:55:41.949855\n",
      "1638366942\n"
     ]
    }
   ],
   "source": [
    "from datetime import datetime\n",
    "import time\n",
    "\n",
    "# timestamp = datetime.utcnow().isoformat()\n",
    "timestamp = datetime.today()\n",
    "print(timestamp)\n",
    "\n",
    "print(round(time.time()))"
   ]
  },
  {
   "cell_type": "markdown",
   "metadata": {},
   "source": [
    "## Way to create a string with a placeholder so that it can be changed later on with .format() method"
   ]
  },
  {
   "cell_type": "code",
   "execution_count": 1,
   "metadata": {},
   "outputs": [
    {
     "name": "stdout",
     "output_type": "stream",
     "text": [
      "/v1/smatrix-json/{country_code}\n",
      "/v1/smatrix-json/fi-FI\n"
     ]
    }
   ],
   "source": [
    "API_VERSION = \"v1\"\n",
    "\n",
    "smatrix_json_by_country_code = f\"/{API_VERSION}\" + \"/smatrix-json/{country_code}\"\n",
    "print(smatrix_json_by_country_code) \n",
    "\n",
    "\n",
    "# replace a placeholder with a value\n",
    "api_path_fi = smatrix_json_by_country_code.format(country_code=\"fi-FI\")\n",
    "print(api_path_fi)\n"
   ]
  },
  {
   "cell_type": "markdown",
   "metadata": {},
   "source": [
    "## Small random programs"
   ]
  },
  {
   "cell_type": "code",
   "execution_count": 2,
   "metadata": {},
   "outputs": [
    {
     "data": {
      "text/plain": [
       "'HELLO'"
      ]
     },
     "execution_count": 2,
     "metadata": {},
     "output_type": "execute_result"
    }
   ],
   "source": [
    "def capitilizeAll(string: str) -> str:\n",
    "    return \"\".join([i.capitalize() for i in string])\n",
    "\n",
    "capitilizeAll(\"hello\")"
   ]
  },
  {
   "cell_type": "code",
   "execution_count": 23,
   "metadata": {},
   "outputs": [
    {
     "data": {
      "text/plain": [
       "'helloWorldFoo'"
      ]
     },
     "execution_count": 23,
     "metadata": {},
     "output_type": "execute_result"
    }
   ],
   "source": [
    "def camelize(string: str) -> str:\n",
    "    w_list = string.split(\"_\")\n",
    "    for idx, word in enumerate(w_list):\n",
    "        if idx == 0:\n",
    "            continue\n",
    "        w_list[idx] = word.capitalize()\n",
    "    return \"\".join(w_list)\n",
    "\n",
    "\n",
    "camelize(\"hello_world_foo\")"
   ]
  },
  {
   "cell_type": "markdown",
   "metadata": {},
   "source": [
    "## Practicing with Regex"
   ]
  },
  {
   "cell_type": "code",
   "execution_count": 2,
   "metadata": {},
   "outputs": [
    {
     "name": "stdout",
     "output_type": "stream",
     "text": [
      "Phone number found: 415-555\n"
     ]
    }
   ],
   "source": [
    "import re\n",
    "\n",
    "phoneNumRegex = re.compile(r\"\\d\\d\\d-\\d\\d\\d\")\n",
    "\n",
    "mo = phoneNumRegex.search('My number is 415-555-4242.')\n",
    "print('Phone number found: ' + mo.group())"
   ]
  },
  {
   "cell_type": "code",
   "execution_count": 8,
   "metadata": {},
   "outputs": [
    {
     "name": "stdout",
     "output_type": "stream",
     "text": [
      "hello world, what's up, man\n",
      "waiting for a services to reach a steady state. It can take up to 5 mins\n"
     ]
    }
   ],
   "source": [
    "greet = \"world\"\n",
    "greet2 = \"man\"\n",
    "print(\n",
    "    f\"hello {greet}, \"\n",
    "    f\"what's up, {greet2}\"\n",
    ")\n",
    "\n",
    "print(\n",
    "    \"waiting for a services to reach \"\n",
    "    \"a steady state. It can take up to 5 mins\"\n",
    ")"
   ]
  },
  {
   "cell_type": "code",
   "execution_count": 10,
   "metadata": {},
   "outputs": [
    {
     "name": "stdout",
     "output_type": "stream",
     "text": [
      "path1\n",
      "path2\n"
     ]
    }
   ],
   "source": [
    "a = \"path1\"\n",
    "b = \"path2\"\n",
    "path_list = [a, b]\n",
    "\n",
    "for path in path_list:\n",
    "    print(path)"
   ]
  },
  {
   "cell_type": "code",
   "execution_count": 1,
   "metadata": {},
   "outputs": [
    {
     "name": "stdout",
     "output_type": "stream",
     "text": [
      "2022-01-24T18:52:11.161501Z\n",
      "2022-01-25 20:52:11.161546\n"
     ]
    }
   ],
   "source": [
    "from datetime import datetime, timedelta\n",
    "\n",
    "now = datetime.utcnow().isoformat() + 'Z'\n",
    "ini_time_for_now = datetime.now()\n",
    "print(now)\n",
    "\n",
    "after_24_hours = ini_time_for_now + timedelta(days=1)\n",
    "print(after_24_hours)"
   ]
  },
  {
   "cell_type": "code",
   "execution_count": 55,
   "metadata": {},
   "outputs": [
    {
     "name": "stdout",
     "output_type": "stream",
     "text": [
      "4\n",
      "2022-01-18T09:43:04.008+00:00\n",
      "2022-01-18T09:43:04.008000+00:00\n",
      "2022-01-18T09:43:04Z\n",
      "1642498984.008\n"
     ]
    }
   ],
   "source": [
    "from datetime import datetime, timezone\n",
    "\n",
    "ts = datetime.fromisoformat(\"2022-01-18T09:43:04.008+00:00\")\n",
    "print(len(str(ts.microsecond)))\n",
    "\n",
    "# ts = datetime.now(tz=timezone.utc)\n",
    "# ts = ts.replace(microsecond=88)\n",
    "# ts = ts.replace(microsecond=0)\n",
    "ts_witout_tz = ts.replace(microsecond=0, tzinfo=None)\n",
    "\n",
    "\n",
    "print(f\"{ts.isoformat(timespec='milliseconds')}\")\n",
    "print(f\"{ts.isoformat(timespec='microseconds')}\")\n",
    "print(f\"{ts_witout_tz.isoformat()}Z\")\n",
    "print(ts.timestamp())"
   ]
  },
  {
   "cell_type": "code",
   "execution_count": null,
   "metadata": {},
   "outputs": [],
   "source": []
  }
 ],
 "metadata": {
  "interpreter": {
   "hash": "b6d1548f21374642a2ddda761665f71434901322621d768472e2b6d6c3819d01"
  },
  "kernelspec": {
   "display_name": "Python 3.8.1 64-bit ('3.8.1': pyenv)",
   "name": "python3"
  },
  "language_info": {
   "codemirror_mode": {
    "name": "ipython",
    "version": 3
   },
   "file_extension": ".py",
   "mimetype": "text/x-python",
   "name": "python",
   "nbconvert_exporter": "python",
   "pygments_lexer": "ipython3",
   "version": "3.8.1"
  },
  "orig_nbformat": 2
 },
 "nbformat": 4,
 "nbformat_minor": 2
}
