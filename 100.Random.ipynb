{
 "metadata": {
  "language_info": {
   "codemirror_mode": {
    "name": "ipython",
    "version": 3
   },
   "file_extension": ".py",
   "mimetype": "text/x-python",
   "name": "python",
   "nbconvert_exporter": "python",
   "pygments_lexer": "ipython3",
   "version": "3.8.1"
  },
  "orig_nbformat": 2,
  "kernelspec": {
   "name": "python3",
   "display_name": "Python 3.8.1 64-bit ('3.8.1': pyenv)"
  },
  "interpreter": {
   "hash": "87e9f9d6fb95569397596dcd0d81ee28cb3994f98858202ea92bee48ec9453fa"
  }
 },
 "nbformat": 4,
 "nbformat_minor": 2,
 "cells": [
  {
   "source": [
    "## Measuring execution time of small bits of Python code"
   ],
   "cell_type": "markdown",
   "metadata": {}
  },
  {
   "cell_type": "code",
   "execution_count": 1,
   "metadata": {},
   "outputs": [
    {
     "output_type": "stream",
     "name": "stdout",
     "text": [
      "0-1-2-3-4-5-6-7-8-9-10-11-12-13-14-15-16-17-18-19-20-21-22-23-24-25-26-27-28-29-30-31-32-33-34-35-36-37-38-39-40-41-42-43-44-45-46-47-48-49-50-51-52-53-54-55-56-57-58-59-60-61-62-63-64-65-66-67-68-69-70-71-72-73-74-75-76-77-78-79-80-81-82-83-84-85-86-87-88-89-90-91-92-93-94-95-96-97-98-99\n"
     ]
    },
    {
     "output_type": "execute_result",
     "data": {
      "text/plain": [
       "0.2532839549999153"
      ]
     },
     "metadata": {},
     "execution_count": 1
    }
   ],
   "source": [
    "test = \"-\".join(str(n) for n in range(100))\n",
    "print(test)\n",
    "import timeit\n",
    "\n",
    "timeit.timeit('\"-\".join(str(n) for n in range(100))',\n",
    "                  number=10000)"
   ]
  },
  {
   "source": [
    "## When to use yield instead of return in Python?"
   ],
   "cell_type": "markdown",
   "metadata": {}
  },
  {
   "cell_type": "code",
   "execution_count": 5,
   "metadata": {},
   "outputs": [
    {
     "output_type": "stream",
     "name": "stdout",
     "text": [
      "the 0th iteration: 1\nthe 1th iteration: 2\nthe 2th iteration: 3\n"
     ]
    }
   ],
   "source": [
    "# A Simple Python program to demonstrate working\n",
    "# of yield\n",
    "  \n",
    "# A generator function that yields 1 for the first time,\n",
    "# 2 second time and 3 third time\n",
    "def simpleGeneratorFun():\n",
    "    yield 1\n",
    "    yield 2\n",
    "    yield 3\n",
    "  \n",
    "# Driver code to check above generator function\n",
    "for count, value in enumerate(simpleGeneratorFun()):\n",
    "    print(f\"the {count}th iteration: {value}\")"
   ]
  },
  {
   "cell_type": "code",
   "execution_count": 15,
   "metadata": {},
   "outputs": [
    {
     "output_type": "stream",
     "name": "stdout",
     "text": [
      "1\n4\n9\n16\n25\n36\n49\n64\n81\n100\n"
     ]
    },
    {
     "output_type": "execute_result",
     "data": {
      "text/plain": [
       "4"
      ]
     },
     "metadata": {},
     "execution_count": 15
    }
   ],
   "source": [
    "\n",
    "# A Python program to generate squares from 1\n",
    "# to 100 using yield and therefore generator\n",
    "  \n",
    "# An infinite generator function that prints\n",
    "# next square number. It starts with 1\n",
    "def nextSquare():\n",
    "    i = 1;\n",
    "  \n",
    "    # An Infinite loop to generate squares \n",
    "    while True:\n",
    "        yield i*i                \n",
    "        i += 1  # Next execution resumes \n",
    "                # from this point     \n",
    "  \n",
    "# Driver code to test above generator \n",
    "# function\n",
    "for num in nextSquare():\n",
    "    if num > 100:\n",
    "         break    \n",
    "    print(num)\n",
    "\n"
   ]
  },
  {
   "source": [
    "## Example of documenting a class with a docstring"
   ],
   "cell_type": "markdown",
   "metadata": {}
  },
  {
   "cell_type": "code",
   "execution_count": 10,
   "metadata": {},
   "outputs": [
    {
     "output_type": "stream",
     "name": "stdout",
     "text": [
      "Help on class ComplexNumber in module __main__:\n\nclass ComplexNumber(builtins.object)\n |  ComplexNumber(real, imag)\n |  \n |  This is a class for mathematical operations on complex numbers.\n |  \n |  Attributes:\n |          real (int): The real part of complex number.\n |          imag (int): The imaginary part of complex number.\n |  \n |  Methods defined here:\n |  \n |  __init__(self, real, imag)\n |      The constructor for ComplexNumber class.\n |      \n |      Parameters:\n |      real (int): The real part of complex number.\n |      imag (int): The imaginary part of complex number.\n |  \n |  add(self, num)\n |      The function to add two Complex Numbers.\n |      \n |      Parameters:\n |              num (ComplexNumber): The complex number to be added.\n |      \n |      Returns:\n |              ComplexNumber: A complex number which contains the sum.\n |  \n |  ----------------------------------------------------------------------\n |  Data descriptors defined here:\n |  \n |  __dict__\n |      dictionary for instance variables (if defined)\n |  \n |  __weakref__\n |      list of weak references to the object (if defined)\n\nHelp on function add in module __main__:\n\nadd(self, num)\n    The function to add two Complex Numbers.\n    \n    Parameters:\n            num (ComplexNumber): The complex number to be added.\n    \n    Returns:\n            ComplexNumber: A complex number which contains the sum.\n\n"
     ]
    }
   ],
   "source": [
    "class ComplexNumber:\n",
    "\t\"\"\"\n",
    "\tThis is a class for mathematical operations on complex numbers.\n",
    "\t\n",
    "\tAttributes:\n",
    "\t\treal (int): The real part of complex number.\n",
    "\t\timag (int): The imaginary part of complex number.\n",
    "\t\"\"\"\n",
    "\n",
    "\tdef __init__(self, real, imag):\n",
    "\t\t\"\"\"\n",
    "\t\tThe constructor for ComplexNumber class.\n",
    "\n",
    "\t\tParameters:\n",
    "\t\treal (int): The real part of complex number.\n",
    "\t\timag (int): The imaginary part of complex number.\n",
    "\t\t\"\"\"\n",
    "\n",
    "\tdef add(self, num):\n",
    "\t\t\"\"\"\n",
    "\t\tThe function to add two Complex Numbers.\n",
    "\n",
    "\t\tParameters:\n",
    "\t\t\tnum (ComplexNumber): The complex number to be added.\n",
    "\t\t\n",
    "\t\tReturns:\n",
    "\t\t\tComplexNumber: A complex number which contains the sum.\n",
    "\t\t\"\"\"\n",
    "\n",
    "\t\tre = self.real + num.real\n",
    "\t\tim = self.imag + num.imag\n",
    "\n",
    "\t\treturn ComplexNumber(re, im)\n",
    "\n",
    "help(ComplexNumber) # to access Class docstring\n",
    "help(ComplexNumber.add) # to access method's docstring\n"
   ]
  },
  {
   "cell_type": "code",
   "execution_count": 11,
   "metadata": {},
   "outputs": [
    {
     "output_type": "stream",
     "name": "stdout",
     "text": [
      "Help on built-in function dir in module builtins:\n\ndir(...)\n    dir([object]) -> list of strings\n    \n    If called without an argument, return the names in the current scope.\n    Else, return an alphabetized list of names comprising (some of) the attributes\n    of the given object, and of attributes reachable from it.\n    If the object supplies a method named __dir__, it will be used; otherwise\n    the default dir() logic is used and returns:\n      for a module object: the module's attributes.\n      for a class object:  its attributes, and recursively the attributes\n        of its bases.\n      for any other object: its attributes, its class's attributes, and\n        recursively the attributes of its class's base classes.\n\n"
     ]
    }
   ],
   "source": [
    "help(dir)"
   ]
  },
  {
   "source": [
    "## Getting Epoch time"
   ],
   "cell_type": "markdown",
   "metadata": {}
  },
  {
   "cell_type": "code",
   "execution_count": 77,
   "metadata": {},
   "outputs": [
    {
     "output_type": "stream",
     "name": "stdout",
     "text": [
      "1619469803741\n740928\n"
     ]
    }
   ],
   "source": [
    "from datetime import datetime\n",
    "import time\n",
    "\n",
    "# time in milliseconds from epoch\n",
    "print(round(time.time() * 1000))\n",
    "\n",
    "# for some reason, it is harder to get it using datetime module"
   ]
  },
  {
   "cell_type": "code",
   "execution_count": 2,
   "metadata": {},
   "outputs": [
    {
     "output_type": "stream",
     "name": "stdout",
     "text": [
      "2021-05-18T18:03:43.874044\n"
     ]
    }
   ],
   "source": [
    "from datetime import datetime\n",
    "\n",
    "timestamp = datetime.utcnow().isoformat()\n",
    "print(timestamp)"
   ]
  },
  {
   "source": [
    "## Way to create a string with a placeholder so that it can be changed later on with .format() method"
   ],
   "cell_type": "markdown",
   "metadata": {}
  },
  {
   "cell_type": "code",
   "execution_count": 1,
   "metadata": {},
   "outputs": [
    {
     "output_type": "stream",
     "name": "stdout",
     "text": [
      "/v1/smatrix-json/{country_code}\n/v1/smatrix-json/fi-FI\n"
     ]
    }
   ],
   "source": [
    "API_VERSION = \"v1\"\n",
    "\n",
    "smatrix_json_by_country_code = f\"/{API_VERSION}\" + \"/smatrix-json/{country_code}\"\n",
    "print(smatrix_json_by_country_code) \n",
    "\n",
    "\n",
    "# replace a placeholder with a value\n",
    "api_path_fi = smatrix_json_by_country_code.format(country_code=\"fi-FI\")\n",
    "print(api_path_fi)\n"
   ]
  },
  {
   "source": [
    "## Small random programs"
   ],
   "cell_type": "markdown",
   "metadata": {}
  },
  {
   "cell_type": "code",
   "execution_count": 2,
   "metadata": {},
   "outputs": [
    {
     "output_type": "execute_result",
     "data": {
      "text/plain": [
       "'HELLO'"
      ]
     },
     "metadata": {},
     "execution_count": 2
    }
   ],
   "source": [
    "def capitilizeAll(string: str) -> str:\n",
    "    return \"\".join([i.capitalize() for i in string])\n",
    "\n",
    "capitilizeAll(\"hello\")"
   ]
  },
  {
   "cell_type": "code",
   "execution_count": 23,
   "metadata": {},
   "outputs": [
    {
     "output_type": "execute_result",
     "data": {
      "text/plain": [
       "'helloWorldFoo'"
      ]
     },
     "metadata": {},
     "execution_count": 23
    }
   ],
   "source": [
    "def camelize(string: str) -> str:\n",
    "    w_list = string.split(\"_\")\n",
    "    for idx, word in enumerate(w_list):\n",
    "        if idx == 0:\n",
    "            continue\n",
    "        w_list[idx] = word.capitalize()\n",
    "    return \"\".join(w_list)\n",
    "\n",
    "\n",
    "camelize(\"hello_world_foo\")"
   ]
  },
  {
   "source": [
    "## Practicing with Regex"
   ],
   "cell_type": "markdown",
   "metadata": {}
  },
  {
   "cell_type": "code",
   "execution_count": 6,
   "metadata": {},
   "outputs": [
    {
     "output_type": "stream",
     "name": "stdout",
     "text": [
      "Phone number found: 415-555\n"
     ]
    }
   ],
   "source": [
    "import re\n",
    "\n",
    "phoneNumRegex = re.compile(r\"\\d\\d\\d-\\d\\d\\d\")\n",
    "\n",
    "mo = phoneNumRegex.search('My number is 415-555-4242.')\n",
    "print('Phone number found: ' + mo.group())\n",
    "mo."
   ]
  },
  {
   "cell_type": "code",
   "execution_count": null,
   "metadata": {},
   "outputs": [],
   "source": []
  }
 ]
}