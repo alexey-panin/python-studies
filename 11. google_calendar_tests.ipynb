{
 "cells": [
  {
   "cell_type": "markdown",
   "metadata": {},
   "source": [
    "# Links\n",
    "\n",
    " - link to python quick start: https://developers.google.com/calendar/api/quickstart/python\n",
    " - google-api-python-client docs: https://github.com/googleapis/google-api-python-client/blob/main/docs/start.md\n",
    "\n",
    "# Steps done\n",
    "\n",
    "- created a new project on Google Cloud (named \"alpanin-project\")\n",
    "- enabled Calendar API (in search bar write \"calendar api\" and press enable)\n",
    "- created Oauth 2.0 credentials for Desctop app (https://developers.google.com/workspace/guides/create-credentials)\n",
    "  - there was needed also to create a consent page about giving the access to the calendar (scope read only), created that too\n",
    "- created credentials.json file and paste secrets downloaded from previous step (added credentials.json and token.json to gitignore)\n",
    "- downloaded dependencies and stubs for python client (added those to pyproject.toml)\n",
    "- run the script created"
   ]
  },
  {
   "cell_type": "code",
   "execution_count": 2,
   "metadata": {},
   "outputs": [
    {
     "name": "stdout",
     "output_type": "stream",
     "text": [
      "Please visit this URL to authorize this application: https://accounts.google.com/o/oauth2/auth?response_type=code&client_id=550410975393-qhjtff14m2tnj6mokbd4c11ucj0im17f.apps.googleusercontent.com&redirect_uri=http%3A%2F%2Flocalhost%3A54918%2F&scope=https%3A%2F%2Fwww.googleapis.com%2Fauth%2Fcalendar.readonly&state=yAcPpCtJTCdj3sn8VnndgyJBcSnxfE&access_type=offline\n",
      "No upcoming events found.\n"
     ]
    }
   ],
   "source": [
    "from __future__ import print_function\n",
    "\n",
    "from datetime import datetime, timedelta\n",
    "import os.path\n",
    "\n",
    "from google.auth.transport.requests import Request\n",
    "from google.oauth2.credentials import Credentials\n",
    "from google_auth_oauthlib.flow import InstalledAppFlow\n",
    "from googleapiclient.discovery import build\n",
    "from googleapiclient.errors import HttpError\n",
    "\n",
    "# If modifying these scopes, delete the file token.json.\n",
    "SCOPES = ['https://www.googleapis.com/auth/calendar.readonly']\n",
    "\n",
    "\n",
    "def main():\n",
    "    \"\"\"Shows basic usage of the Google Calendar API.\n",
    "    Prints the start and name of the next 10 events on the user's calendar.\n",
    "    \"\"\"\n",
    "    creds = None\n",
    "    # The file token.json stores the user's access and refresh tokens, and is\n",
    "    # created automatically when the authorization flow completes for the first\n",
    "    # time.\n",
    "    if os.path.exists('token.json'):\n",
    "        creds = Credentials.from_authorized_user_file('token.json', SCOPES)\n",
    "    # If there are no (valid) credentials available, let the user log in.\n",
    "    if not creds or not creds.valid:\n",
    "        if creds and creds.expired and creds.refresh_token:\n",
    "            creds.refresh(Request())\n",
    "        else:\n",
    "            flow = InstalledAppFlow.from_client_secrets_file(\n",
    "                'credentials.json', SCOPES)\n",
    "            creds = flow.run_local_server(port=0)\n",
    "        # Save the credentials for the next run\n",
    "        with open('token.json', 'w') as token:\n",
    "            token.write(creds.to_json())\n",
    "\n",
    "    try:\n",
    "        service = build('calendar', 'v3', credentials=creds)\n",
    "\n",
    "\n",
    "        ################\n",
    "        #\n",
    "        # Original code\n",
    "        #\n",
    "        ################\n",
    "        # Call the Calendar API\n",
    "        # now = datetime.datetime.utcnow().isoformat() + 'Z'  # 'Z' indicates UTC time\n",
    "        # print('Getting the upcoming 10 events')\n",
    "        # events_result = service.events().list(calendarId='primary', timeMin=now,\n",
    "        #                                       maxResults=10, singleEvents=True,\n",
    "        #                                       orderBy='startTime').execute()\n",
    "\n",
    "        now = datetime.utcnow()\n",
    "        now_iso = now.isoformat() + 'Z'  # 'Z' indicates UTC time\n",
    "        after_24_hours = now + timedelta(days=1)\n",
    "        after_24_hours_iso = after_24_hours.isoformat() + 'Z' # 'Z' indicates UTC time\n",
    "\n",
    "        events_result = service.events().list(calendarId='primary', timeMin=now_iso,\n",
    "                                              timeMax=after_24_hours_iso,\n",
    "                                              singleEvents=True,\n",
    "                                              orderBy='startTime').execute()\n",
    "        events = events_result.get('items', [])\n",
    "\n",
    "        if not events:\n",
    "            print('No upcoming events found.')\n",
    "            return\n",
    "\n",
    "        # Prints the start and name of the next 10 events\n",
    "        for event in events:\n",
    "            start = event['start'].get('dateTime', event['start'].get('date'))\n",
    "            print(start, event['summary'])\n",
    "\n",
    "        # call close() to avoid leaving sockets open\n",
    "        service.close()\n",
    "\n",
    "    except HttpError as error:\n",
    "        print('An error occurred: %s' % error)\n",
    "\n",
    "\n",
    "if __name__ == '__main__':\n",
    "    main()"
   ]
  }
 ],
 "metadata": {
  "interpreter": {
   "hash": "1cc507c7169f8b7208f08a40a7cb8269aca6aa1ab607c310fa68919c02751732"
  },
  "kernelspec": {
   "display_name": "Python 3.8.1 64-bit ('jypyter-notebook-samples-JW1wqGD9-py3.8': poetry)",
   "language": "python",
   "name": "python3"
  },
  "language_info": {
   "codemirror_mode": {
    "name": "ipython",
    "version": 3
   },
   "file_extension": ".py",
   "mimetype": "text/x-python",
   "name": "python",
   "nbconvert_exporter": "python",
   "pygments_lexer": "ipython3",
   "version": "3.8.1"
  },
  "orig_nbformat": 4
 },
 "nbformat": 4,
 "nbformat_minor": 2
}
