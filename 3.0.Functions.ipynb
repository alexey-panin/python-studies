{
 "cells": [
  {
   "source": [
    "## Function syntax. Basic example."
   ],
   "cell_type": "markdown",
   "metadata": {}
  },
  {
   "cell_type": "code",
   "execution_count": 18,
   "metadata": {
    "collapsed": true
   },
   "outputs": [],
   "source": [
    "# BMI calculator\n",
    "name1 = \"YK\"\n",
    "height_m1 = 2\n",
    "weight_kg1 = 90\n",
    "\n",
    "name2 = \"YK's sister\"\n",
    "height_m2 = 1.8\n",
    "weight_kg2 = 70\n",
    "\n",
    "name3 = \"YK's brother\"\n",
    "height_m3 = 2.5\n",
    "weight_kg3 = 160"
   ]
  },
  {
   "cell_type": "code",
   "execution_count": 22,
   "metadata": {
    "collapsed": true
   },
   "outputs": [],
   "source": [
    "def bmi_calculator(name, height_m, weight_kg):\n",
    "    bmi = weight_kg / (height_m ** 2)\n",
    "    print(\"bmi: \")\n",
    "    print(bmi)\n",
    "    if bmi < 25:\n",
    "        return name + \" is not overweight\"\n",
    "    else:\n",
    "        return name + \" is overweight\""
   ]
  },
  {
   "cell_type": "code",
   "execution_count": 23,
   "metadata": {},
   "outputs": [
    {
     "name": "stdout",
     "output_type": "stream",
     "text": [
      "bmi: \n",
      "22.5\n",
      "bmi: \n",
      "21.604938271604937\n",
      "bmi: \n",
      "25.6\n"
     ]
    }
   ],
   "source": [
    "result1 = bmi_calculator(name1, height_m1, weight_kg1)\n",
    "result2 = bmi_calculator(name2, height_m2, weight_kg2)\n",
    "result3 = bmi_calculator(name3, height_m3, weight_kg3)"
   ]
  },
  {
   "cell_type": "code",
   "execution_count": 24,
   "metadata": {},
   "outputs": [
    {
     "name": "stdout",
     "output_type": "stream",
     "text": [
      "YK is not overweight\n",
      "YK's sister is not overweight\n",
      "YK's brother is overweight\n"
     ]
    }
   ],
   "source": [
    "print(result1)\n",
    "print(result2)\n",
    "print(result3)"
   ]
  },
  {
   "source": [
    "## Functions's \"Return\" statement\n",
    "\n",
    "If an expression list is present, it is evaluated, else None is substituted.\n",
    "\n",
    "It means, unlike in JS, you cannot return statements which should be evaluated first, like return a += 10\n",
    "In Python you should first have a variable with a result of the statement and only then return that variable.\n",
    "\n",
    "```\n",
    "def getAppNames():\n",
    "    result = []\n",
    "    for app in service.apps:\n",
    "        result.append(app.name)\n",
    "    return result\n",
    "```\n",
    "\n",
    "### There are advanced ways in Python though, like list comprehension.\n",
    "\n",
    "\n",
    "```\n",
    "def getAppNames:\n",
    "    return [app.name for app in service.apps]\n",
    "```\n"
   ],
   "cell_type": "markdown",
   "metadata": {}
  },
  {
   "source": [
    "## Passing arguments into functions. Call by reference, call by value\n",
    "\n",
    "> https://medium.com/@meghamohan/mutable-and-immutable-side-of-python-c2145cf72747#:~:text=Simple%20put%2C%20a%20mutable%20object,set%2C%20dict)%20are%20mutable.\n",
    "\n",
    "* if a mutable object is called by reference in a function, it can change the original variable itself. Hence to avoid this, the original variable needs to be copied to another variable. \n",
    "\n",
    "* Immutable objects can be called by reference because its value cannot be changed anyways.\n",
    "\n",
    "**Unlike in JS** where it depends on the method whether the original value will be modified or not (e.g. array.sort which modifies original array vs array.map which does not), in Python it depends on the data type, whether it is mutable or not and on the way how it is passed into the function (call by reference vs call by value)\n"
   ],
   "cell_type": "markdown",
   "metadata": {}
  },
  {
   "cell_type": "code",
   "execution_count": 4,
   "metadata": {},
   "outputs": [
    {
     "output_type": "stream",
     "name": "stdout",
     "text": [
      "4613556096\n[5, 6, 10]\n4613556096\n"
     ]
    }
   ],
   "source": [
    "## Call by reference in case of mutable objects (lists, dicts, sets). \n",
    "# !!! Not desirable effect since the original list is changed!\n",
    "\n",
    "def updateList(list1):\n",
    "    list1 += [10]\n",
    "    return list1\n",
    "\n",
    "n = [5, 6]\n",
    "print(id(n))   \n",
    "\n",
    "updateList(n)\n",
    "\n",
    "# original list has changed!!!\n",
    "print(n)\n",
    "print(id(n))"
   ]
  },
  {
   "cell_type": "code",
   "execution_count": 13,
   "metadata": {},
   "outputs": [
    {
     "output_type": "stream",
     "name": "stdout",
     "text": [
      "[1, 2, 3]\n[1, 2, 3, 10]\n"
     ]
    }
   ],
   "source": [
    "## That's the proper way to pass mutable object into function so that the original one will not be modified.\n",
    "\n",
    "b = [1, 2, 3]\n",
    "\n",
    "b_modified = updateList(b.copy())\n",
    "\n",
    "print(b)\n",
    "print(b_modified)"
   ]
  },
  {
   "cell_type": "code",
   "execution_count": 8,
   "metadata": {},
   "outputs": [
    {
     "output_type": "stream",
     "name": "stdout",
     "text": [
      "4553886016\n4553886016\n5\n"
     ]
    }
   ],
   "source": [
    "## Call by value for immutable objects (int, float, str, tuple ...)\n",
    "\n",
    "def updateNumber(n):\n",
    "    print(id(n))\n",
    "    n += 10\n",
    "\n",
    "b = 5\n",
    "print(id(b))\n",
    "updateNumber(b)\n",
    "\n",
    "# original value is not changedß\n",
    "print(b)"
   ]
  },
  {
   "source": [
    "## Defining functions with *args and **kwargs\n",
    "\n",
    "Note, that it is not mandatory to call these arguments as args and kwargs, it is just widely accepted, but can be replaced with another variable names. Main thing are using of * for positional arguments and ** for keyword arguments\n",
    "\n",
    "> https://stackabuse.com/unpacking-in-python-beyond-parallel-assignment/#:~:text=Unpacking%20in%20Python%20refers%20to,the%20iterable%20unpacking%20operator%2C%20*%20\n"
   ],
   "cell_type": "markdown",
   "metadata": {}
  },
  {
   "cell_type": "code",
   "execution_count": 29,
   "metadata": {},
   "outputs": [
    {
     "output_type": "stream",
     "name": "stdout",
     "text": [
      "Welcome to...\n(1, 2, 3)\n{'site': 'StackAbuse.com', 'site2': 'hello.com'}\n"
     ]
    }
   ],
   "source": [
    "# required will take the first argument\n",
    "# *args will take all positional arguments (not keyword arguments)\n",
    "# **kwargs will take all keyword arguments\n",
    "\n",
    "def func(required, *args, **kwargs):\n",
    "    print(required)\n",
    "    print(args)\n",
    "    print(kwargs)\n",
    "\n",
    "func(\"Welcome to...\", 1, 2, 3, site='StackAbuse.com', site2='hello.com')"
   ]
  },
  {
   "source": [
    "## Calling functions with *args and **kwargs \n",
    "> https://www.digitalocean.com/community/tutorials/how-to-use-args-and-kwargs-in-python-3"
   ],
   "cell_type": "markdown",
   "metadata": {}
  },
  {
   "cell_type": "code",
   "execution_count": 37,
   "metadata": {},
   "outputs": [
    {
     "output_type": "stream",
     "name": "stdout",
     "text": [
      "Welcome to StackAbuse.com\n"
     ]
    }
   ],
   "source": [
    "# Here, the * operator unpacks sequences like [\"Welcome\", \"to\"] into positional arguments. Similarly, the ** operator unpacks dictionaries into arguments whose names match the keys of the unpacked dictionary.\n",
    "\n",
    "def func(welcome, to, site):\n",
    "    print(welcome, to, site)\n",
    "\n",
    "func(*[\"Welcome\", \"to\"], **{\"site\": 'StackAbuse.com'})"
   ]
  },
  {
   "cell_type": "code",
   "execution_count": 40,
   "metadata": {},
   "outputs": [
    {
     "output_type": "execute_result",
     "data": {
      "text/plain": [
       "5"
      ]
     },
     "metadata": {},
     "execution_count": 40
    }
   ],
   "source": [
    "# here we can see the use of default values like in JS\n",
    "\n",
    "def add(a=0, b=0):\n",
    "   return a + b\n",
    "\n",
    "d = {'a': 2, 'b': 3}\n",
    "add(**d)"
   ]
  },
  {
   "cell_type": "code",
   "execution_count": 25,
   "metadata": {},
   "outputs": [
    {
     "output_type": "stream",
     "name": "stdout",
     "text": [
      "kwarg_1: Val\nkwarg_2: Harper\nkwarg_3: Remy\n"
     ]
    }
   ],
   "source": [
    "# **kwargs\n",
    "\n",
    "def some_kwargs(kwarg_1, kwarg_2, kwarg_3):\n",
    "    print(\"kwarg_1:\", kwarg_1)\n",
    "    print(\"kwarg_2:\", kwarg_2)\n",
    "    print(\"kwarg_3:\", kwarg_3)\n",
    "\n",
    "kwargs = {\"kwarg_1\": \"Val\", \"kwarg_3\": \"Remy\", \"kwarg_2\": \"Harper\"}\n",
    "some_kwargs(**kwargs)"
   ]
  },
  {
   "cell_type": "code",
   "execution_count": 6,
   "metadata": {},
   "outputs": [
    {
     "output_type": "stream",
     "name": "stdout",
     "text": [
      "arg_1: Sammy\narg_2: Casey\narg_3: Alex\n"
     ]
    }
   ],
   "source": [
    "# *args\n",
    "\n",
    "def some_args(arg_1, arg_2, arg_3):\n",
    "    print(\"arg_1:\", arg_1)\n",
    "    print(\"arg_2:\", arg_2)\n",
    "    print(\"arg_3:\", arg_3)\n",
    "\n",
    "args = (\"Sammy\", \"Casey\", \"Alex\")\n",
    "some_args(*args)"
   ]
  },
  {
   "cell_type": "code",
   "execution_count": 51,
   "metadata": {},
   "outputs": [
    {
     "output_type": "stream",
     "name": "stdout",
     "text": [
      "This is John. He is 32 years old. His height is 182 cm.\n"
     ]
    }
   ],
   "source": [
    "person = {\n",
    "    \"Name\": \"John\",\n",
    "    \"Surname\": \"Doe\",\n",
    "    \"Age\": 32,\n",
    "    \"Height\": 182\n",
    "}\n",
    "\n",
    "def tell_about_person(Surname, Name, Age, Height):\n",
    "    print(f\"This is {Name}. He is {Age} years old. His height is {Height} cm.\")\n",
    "\n",
    "# in this way the amount of dict values must match the amount and names of function arguments\n",
    "tell_about_person(**person)"
   ]
  },
  {
   "cell_type": "code",
   "execution_count": 52,
   "metadata": {},
   "outputs": [
    {
     "output_type": "stream",
     "name": "stdout",
     "text": [
      "John Doe\nThis is John. He is 32 years old\n"
     ]
    }
   ],
   "source": [
    "# Question how to unpack only desired values from the dictionary like in JS\n",
    "# const { Name, Surname } = person\n",
    "# const Name = person.name      //positioning doesn't matter\n",
    "\n",
    "# This is sligtly answers the question but will be a lot of typing if values to unpack is many.\n",
    "Name, Surname = person[\"Name\"], person[\"Surname\"]\n",
    "print(f\"{Name} {Surname}\")\n",
    "\n",
    "def tell_about_person2(person):\n",
    "\n",
    "    # this is maybe the better and cleaner way. But how to unpack nested dictionaries?\n",
    "    Name, Age = map(person.get, (\"Name\", \"Age\"))\n",
    "    print(f\"This is {Name}. He is {Age} years old\")\n",
    "\n",
    "tell_about_person2(person)"
   ]
  },
  {
   "cell_type": "code",
   "execution_count": 1,
   "metadata": {},
   "outputs": [
    {
     "output_type": "stream",
     "name": "stdout",
     "text": [
      "Aleksei\n"
     ]
    }
   ],
   "source": [
    "def my_func(name: str =\"Aleksei\") -> None:\n",
    "    print(name)\n",
    "\n",
    "my_func(\"Aleksei\")"
   ]
  },
  {
   "source": [
    "def my_func2(*, first_name: str, last_name: str) -> str:\n",
    "    return f\"{first_name} {last_name}\"\n",
    "\n",
    "my_func2(last_name=\"Panin\", first_name=\"Aleksei\")"
   ],
   "cell_type": "code",
   "metadata": {},
   "execution_count": 4,
   "outputs": [
    {
     "output_type": "execute_result",
     "data": {
      "text/plain": [
       "'Aleksei Panin'"
      ]
     },
     "metadata": {},
     "execution_count": 4
    }
   ]
  },
  {
   "cell_type": "code",
   "execution_count": 8,
   "metadata": {},
   "outputs": [
    {
     "output_type": "execute_result",
     "data": {
      "text/plain": [
       "'Aleksei Panin'"
      ]
     },
     "metadata": {},
     "execution_count": 8
    }
   ],
   "source": [
    "def my_func3(**kwargs) -> str:\n",
    "    return f'{kwargs[\"first_name\"]} {kwargs[\"last_name\"]}'\n",
    "\n",
    "\n",
    "my_func3(last_name=\"Panin\", first_name=\"Aleksei\")"
   ]
  },
  {
   "cell_type": "code",
   "execution_count": null,
   "metadata": {},
   "outputs": [],
   "source": []
  }
 ],
 "metadata": {
  "kernelspec": {
   "name": "python381jvsc74a57bd0b5019f1fd57e5c3eaa3604d83f00f0d6f2fe5cf053b693b16f8dd3bf0362f824",
   "display_name": "Python 3.8.1 64-bit"
  },
  "language_info": {
   "codemirror_mode": {
    "name": "ipython",
    "version": 3
   },
   "file_extension": ".py",
   "mimetype": "text/x-python",
   "name": "python",
   "nbconvert_exporter": "python",
   "pygments_lexer": "ipython3",
   "version": "3.8.1-final"
  },
  "metadata": {
   "interpreter": {
    "hash": "f20d46b891776a1b494589babd6507b7dcbdd589b2392b8b3a7cd9a76e866e3f"
   }
  }
 },
 "nbformat": 4,
 "nbformat_minor": 2
}