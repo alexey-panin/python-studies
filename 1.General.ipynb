{
 "metadata": {
  "language_info": {
   "codemirror_mode": {
    "name": "ipython",
    "version": 3
   },
   "file_extension": ".py",
   "mimetype": "text/x-python",
   "name": "python",
   "nbconvert_exporter": "python",
   "pygments_lexer": "ipython3",
   "version": "3.8.1"
  },
  "orig_nbformat": 2,
  "kernelspec": {
   "name": "python3",
   "display_name": "Python 3.8.1 64-bit ('jypyter-notebook-samples-JW1wqGD9-py3.8': poetry)"
  },
  "interpreter": {
   "hash": "b5019f1fd57e5c3eaa3604d83f00f0d6f2fe5cf053b693b16f8dd3bf0362f824"
  }
 },
 "nbformat": 4,
 "nbformat_minor": 2,
 "cells": [
  {
   "source": [
    "## Ways to get help on module, class, method etc. Function help()\n",
    "> https://www.geeksforgeeks.org/help-function-in-python/"
   ],
   "cell_type": "markdown",
   "metadata": {}
  },
  {
   "cell_type": "code",
   "execution_count": 1,
   "metadata": {},
   "outputs": [
    {
     "output_type": "stream",
     "name": "stdout",
     "text": [
      "Help on built-in function clear:\n\nclear() method of builtins.list instance\n    Remove all items from list.\n\n"
     ]
    }
   ],
   "source": [
    "a = [1,2,3]\n",
    "help(a.clear)"
   ]
  },
  {
   "source": [
    "## Ways to check for the type of an object"
   ],
   "cell_type": "markdown",
   "metadata": {}
  },
  {
   "cell_type": "code",
   "execution_count": 14,
   "metadata": {},
   "outputs": [
    {
     "output_type": "stream",
     "name": "stdout",
     "text": [
      "<class 'tuple'>\nTrue\n<class 'set'>\nFalse\n"
     ]
    }
   ],
   "source": [
    "b = (3,2,1)\n",
    "print(type(b))\n",
    "print(isinstance(b, tuple))\n",
    "\n",
    "c = {1, 2, 3}\n",
    "print(type(c))\n",
    "print(isinstance(c, dict))"
   ]
  },
  {
   "source": [
    "## Find out the place in memory for an object. \"id\" built-in function"
   ],
   "cell_type": "markdown",
   "metadata": {}
  },
  {
   "cell_type": "code",
   "execution_count": 26,
   "metadata": {},
   "outputs": [
    {
     "output_type": "stream",
     "name": "stdout",
     "text": [
      "Help on built-in function id in module builtins:\n\nid(obj, /)\n    Return the identity of an object.\n    \n    This is guaranteed to be unique among simultaneously existing objects.\n    (CPython uses the object's memory address.)\n\n"
     ]
    },
    {
     "output_type": "execute_result",
     "data": {
      "text/plain": [
       "4615577536"
      ]
     },
     "metadata": {},
     "execution_count": 26
    }
   ],
   "source": [
    "help(id)\n",
    "a_list = [1,2,3]\n",
    "id(a_list)"
   ]
  },
  {
   "source": [
    "## Mutable, immutable objects (data types)\n",
    "\n",
    "> https://medium.com/@meghamohan/mutable-and-immutable-side-of-python-c2145cf72747#:~:text=Simple%20put%2C%20a%20mutable%20object,set%2C%20dict)%20are%20mutable."
   ],
   "cell_type": "markdown",
   "metadata": {}
  },
  {
   "cell_type": "code",
   "execution_count": 30,
   "metadata": {},
   "outputs": [
    {
     "output_type": "stream",
     "name": "stdout",
     "text": [
      "[1, 2, 3]\n[1, 2, 3]\n4619468928\n4619468928\n4619468928\n4619468928\n"
     ]
    }
   ],
   "source": [
    "## Mutable objects are:\n",
    "# list \n",
    "# dict \n",
    "# set\n",
    "\n",
    "my_list = [1, 2, 3]\n",
    "my_dict = {\"hello\": \"world\"}\n",
    "my_set = {1, 2, 3}\n",
    "\n",
    "# All mutable objects have methods to copy an object or to mutate it\n",
    "\n",
    "# To make sure immutable values are immutable we can make as follows\n",
    "\n",
    "my_list_2 = my_list\n",
    "print(id(my_list))\n",
    "print(id(my_list_2))\n",
    "# both variables point to the same memory place\n",
    "\n",
    "\n",
    "my_list.append(\"hello\")\n",
    "print(id(my_list))\n",
    "print(id(my_list_2))\n",
    "# after we mutated mutable object, it still points to the same memory place"
   ]
  },
  {
   "cell_type": "code",
   "execution_count": 29,
   "metadata": {},
   "outputs": [
    {
     "output_type": "stream",
     "name": "stdout",
     "text": [
      "4533270720\n4533270720\n4533270752\n4533270720\n"
     ]
    }
   ],
   "source": [
    "## Immutable objects are:\n",
    "# bool\n",
    "# int\n",
    "# float\n",
    "# tuple\n",
    "# str\n",
    "# frozenset\n",
    "\n",
    "my_bool = True\n",
    "my_int = 1\n",
    "my_tuple = (1, 2, 3)\n",
    "\n",
    "# Immutable object don't have methods to mutate or copy them\n",
    "\n",
    "# To make sure immutable values are immutable we can make as follows\n",
    "\n",
    "my_int_2 = my_int\n",
    "print(id(my_int))\n",
    "print(id(my_int_2))\n",
    "# both variables point to the same memory place\n",
    "\n",
    "my_int += 1\n",
    "print(id(my_int))\n",
    "print(id(my_int_2))\n",
    "# after we think we mutated the original value, a modified copy of it was created (now both variables point to different memory places)\n"
   ]
  },
  {
   "source": [
    "## Converting a string to bytes and back (encode(), decode())"
   ],
   "cell_type": "markdown",
   "metadata": {}
  },
  {
   "cell_type": "code",
   "execution_count": 6,
   "metadata": {},
   "outputs": [
    {
     "output_type": "stream",
     "name": "stdout",
     "text": [
      "b'hello world'\n<class 'bytes'>\nhello world\n<class 'str'>\n"
     ]
    }
   ],
   "source": [
    "my_str = \"hello world\"\n",
    "my_str_as_bytes = my_str.encode(\"utf-8\")\n",
    "print(my_str_as_bytes)\n",
    "print(type(my_str_as_bytes)) # ensure it is byte representation\n",
    "my_decoded_str = my_str_as_bytes.decode(\"utf-8\")\n",
    "print(my_decoded_str)\n",
    "print(type(my_decoded_str)) # ensure it is string representation"
   ]
  },
  {
   "cell_type": "code",
   "execution_count": null,
   "metadata": {},
   "outputs": [],
   "source": []
  }
 ]
}