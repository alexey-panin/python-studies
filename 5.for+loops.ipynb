{
 "cells": [
  {
   "cell_type": "code",
   "execution_count": 7,
   "metadata": {},
   "outputs": [
    {
     "name": "stdout",
     "output_type": "stream",
     "text": [
      "[1, 2, 3, 4]\n"
     ]
    }
   ],
   "source": [
    "# 1, 2, 3, 4\n",
    "c = list(range(1, 5))\n",
    "print(c)"
   ]
  },
  {
   "cell_type": "code",
   "execution_count": 9,
   "metadata": {},
   "outputs": [
    {
     "name": "stdout",
     "output_type": "stream",
     "text": [
      "10\n"
     ]
    }
   ],
   "source": [
    "total2 = 0\n",
    "for i in range(1, 5):\n",
    "    total2 += i\n",
    "print(total2)"
   ]
  },
  {
   "cell_type": "code",
   "execution_count": 10,
   "metadata": {},
   "outputs": [
    {
     "name": "stdout",
     "output_type": "stream",
     "text": [
      "[1, 2, 3, 4, 5, 6, 7]\n"
     ]
    }
   ],
   "source": [
    "print(list(range(1, 8)))"
   ]
  },
  {
   "cell_type": "code",
   "execution_count": 1,
   "metadata": {},
   "outputs": [
    {
     "output_type": "stream",
     "name": "stdout",
     "text": [
      "9\n"
     ]
    }
   ],
   "source": [
    "total3 = 0\n",
    "for i in range(1, 8):\n",
    "    if i % 3 == 0:\n",
    "        print(i)\n",
    "        total3 += i\n",
    "print(total3)"
   ]
  },
  {
   "source": [
    "## Ways to loop through list and dictionary\n",
    "\n",
    "NOTE: there is also a way to print using syntax close to the JS template literals syntax like console.log(`hello {variable}`)"
   ],
   "cell_type": "markdown",
   "metadata": {}
  },
  {
   "cell_type": "code",
   "execution_count": 4,
   "metadata": {},
   "outputs": [
    {
     "output_type": "stream",
     "name": "stdout",
     "text": [
      "dict_items([('tom', 22), ('john', 32), ('jane', 25)])\n1\n2\n3\n4\n5\n('tom', 22)\nname: tom, age: 22\n('john', 32)\nname: john, age: 32\n('jane', 25)\nname: jane, age: 25\ntom is 22 years old\njohn is 32 years old\njane is 25 years old\n"
     ]
    }
   ],
   "source": [
    "list_of_items = [1, 2, 3, 4, 5]\n",
    "dict_of_items = {\n",
    "    \"tom\": 22,\n",
    "    \"john\": 32,\n",
    "    \"jane\": 25\n",
    "}\n",
    "\n",
    "print(dict_of_items.items())\n",
    "\n",
    "for i in list_of_items:\n",
    "    print(i)\n",
    "\n",
    "for i in dict_of_items.items():\n",
    "    print(f'name: {i[0]}, age: {i[1]}')\n",
    "\n",
    "# better way using unpacking\n",
    "\n",
    "for name, age in dict_of_items.items():\n",
    "    print(f\"{name} is {age} years old\")"
   ]
  },
  {
   "cell_type": "code",
   "execution_count": 5,
   "metadata": {},
   "outputs": [
    {
     "output_type": "stream",
     "name": "stdout",
     "text": [
      "[2, [1, 2], (2, 3), 'hello', {'a': 1}, {1, 2, 3}, 3]\n[2, 3]\n[2, 3]\n"
     ]
    }
   ],
   "source": [
    "list_of_things = [2, [1,2], (2,3), \"hello\", {\"a\": 1}, {1,2,3}, 3]\n",
    "print(list_of_things)\n",
    "\n",
    "# create a new list of only integers\n",
    "\n",
    "list_of_int = [item for item in list_of_things if type(item) == int]\n",
    "print(list_of_int)\n",
    "\n",
    "# using filter function\n",
    "\n",
    "list_of_int_2 = filter(lambda x: isinstance(x, int), list_of_things)\n",
    "print([*list_of_int_2])\n"
   ]
  },
  {
   "source": [
    "## Unpacking in for loops"
   ],
   "cell_type": "markdown",
   "metadata": {}
  },
  {
   "cell_type": "code",
   "execution_count": 34,
   "metadata": {},
   "outputs": [
    {
     "output_type": "stream",
     "name": "stdout",
     "text": [
      "Income for Pencil is: 330.0\nIncome for Notebook is: 715.0\nIncome for Eraser is: 750.0\nIncome for Pencil is: 330.0\nIncome for Notebook is: 715.0\nIncome for Eraser is: 750.0\n"
     ]
    }
   ],
   "source": [
    "sales = [(\"Pencil\", 0.22, 1500), (\"Notebook\", 1.30, 550), (\"Eraser\", 0.75, 1000)]\n",
    "\n",
    "# way to do iterate without unpacking\n",
    "for item in sales:\n",
    "    print(f\"Income for {item[0]} is: {item[1] * item[2]}\")\n",
    "\n",
    "# way to do it with unpacking\n",
    "\n",
    "for product, price, sold_units in sales:\n",
    "    print(f\"Income for {product} is: {price * sold_units}\")"
   ]
  },
  {
   "source": [
    "## Way to collect the rest of values (like a rest operator in JS)"
   ],
   "cell_type": "markdown",
   "metadata": {}
  },
  {
   "cell_type": "code",
   "execution_count": 35,
   "metadata": {},
   "outputs": [
    {
     "output_type": "stream",
     "name": "stdout",
     "text": [
      "First: 1\nRest: [2, 3]\nFirst: 4\nRest: [5, 6, 7]\n"
     ]
    }
   ],
   "source": [
    "for first, *rest in [(1, 2, 3), (4, 5, 6, 7)]:\n",
    "    print(\"First:\", first)\n",
    "    print(\"Rest:\", rest)"
   ]
  },
  {
   "source": [
    "## The structure of the target variables must agree with the structure of the iterable. Otherwise, we'll get an error."
   ],
   "cell_type": "markdown",
   "metadata": {}
  },
  {
   "cell_type": "code",
   "execution_count": 36,
   "metadata": {},
   "outputs": [
    {
     "output_type": "stream",
     "name": "stdout",
     "text": [
      "1 2 2\n2 3 3\n"
     ]
    },
    {
     "output_type": "error",
     "ename": "ValueError",
     "evalue": "not enough values to unpack (expected 3, got 2)",
     "traceback": [
      "\u001b[0;31m---------------------------------------------------------------------------\u001b[0m",
      "\u001b[0;31mValueError\u001b[0m                                Traceback (most recent call last)",
      "\u001b[0;32m<ipython-input-36-8dcdccf11382>\u001b[0m in \u001b[0;36m<module>\u001b[0;34m\u001b[0m\n\u001b[1;32m      4\u001b[0m \u001b[0;34m\u001b[0m\u001b[0m\n\u001b[1;32m      5\u001b[0m \u001b[0;34m\u001b[0m\u001b[0m\n\u001b[0;32m----> 6\u001b[0;31m \u001b[0;32mfor\u001b[0m \u001b[0ma\u001b[0m\u001b[0;34m,\u001b[0m \u001b[0mb\u001b[0m\u001b[0;34m,\u001b[0m \u001b[0mc\u001b[0m \u001b[0;32min\u001b[0m \u001b[0mdata\u001b[0m\u001b[0;34m:\u001b[0m\u001b[0;34m\u001b[0m\u001b[0;34m\u001b[0m\u001b[0m\n\u001b[0m\u001b[1;32m      7\u001b[0m     \u001b[0mprint\u001b[0m\u001b[0;34m(\u001b[0m\u001b[0ma\u001b[0m\u001b[0;34m,\u001b[0m \u001b[0mb\u001b[0m\u001b[0;34m,\u001b[0m \u001b[0mc\u001b[0m\u001b[0;34m)\u001b[0m\u001b[0;34m\u001b[0m\u001b[0;34m\u001b[0m\u001b[0m\n",
      "\u001b[0;31mValueError\u001b[0m: not enough values to unpack (expected 3, got 2)"
     ]
    }
   ],
   "source": [
    "data = [((1, 2), 2), ((2, 3), 3)]\n",
    "\n",
    "# correct way\n",
    "for (a, b), c in data:\n",
    "    print(a, b, c)\n",
    "\n",
    "# incorrect way\n",
    "for a, b, c in data:\n",
    "    print(a, b, c)"
   ]
  },
  {
   "cell_type": "code",
   "execution_count": null,
   "metadata": {},
   "outputs": [],
   "source": []
  }
 ],
 "metadata": {
  "kernelspec": {
   "name": "python381jvsc74a57bd0f20d46b891776a1b494589babd6507b7dcbdd589b2392b8b3a7cd9a76e866e3f",
   "display_name": "Python 3.8.1 64-bit"
  },
  "language_info": {
   "codemirror_mode": {
    "name": "ipython",
    "version": 3
   },
   "file_extension": ".py",
   "mimetype": "text/x-python",
   "name": "python",
   "nbconvert_exporter": "python",
   "pygments_lexer": "ipython3",
   "version": "3.8.1-final"
  },
  "metadata": {
   "interpreter": {
    "hash": "f20d46b891776a1b494589babd6507b7dcbdd589b2392b8b3a7cd9a76e866e3f"
   }
  }
 },
 "nbformat": 4,
 "nbformat_minor": 2
}