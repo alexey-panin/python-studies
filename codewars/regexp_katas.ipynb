{
 "metadata": {
  "language_info": {
   "codemirror_mode": {
    "name": "ipython",
    "version": 3
   },
   "file_extension": ".py",
   "mimetype": "text/x-python",
   "name": "python",
   "nbconvert_exporter": "python",
   "pygments_lexer": "ipython3",
   "version": "3.8.1"
  },
  "orig_nbformat": 4,
  "kernelspec": {
   "name": "python3",
   "display_name": "Python 3.8.1 64-bit ('jypyter-notebook-samples-JW1wqGD9-py3.8': poetry)"
  },
  "interpreter": {
   "hash": "b5019f1fd57e5c3eaa3604d83f00f0d6f2fe5cf053b693b16f8dd3bf0362f824"
  }
 },
 "nbformat": 4,
 "nbformat_minor": 2,
 "cells": [
  {
   "source": [
    "# Is it IPv4 address\n",
    "\n",
    "https://www.codewars.com/kata/567fe8b50c201947bc000056/train/python"
   ],
   "cell_type": "markdown",
   "metadata": {}
  },
  {
   "cell_type": "code",
   "execution_count": 75,
   "metadata": {},
   "outputs": [
    {
     "output_type": "execute_result",
     "data": {
      "text/plain": [
       "True"
      ]
     },
     "metadata": {},
     "execution_count": 75
    }
   ],
   "source": [
    "import re\n",
    "def ipv4_address(address: str) -> bool:\n",
    "    ipv4_regex = re.compile(r\"^(([1]?[0-9]?[0-9]|2[0-4][0-9]|25[0-5])\\.){3}(([1]?[0-9]?[0-9]|2[0-4][0-9]|25[0-5]){1})$\")\n",
    "    mo = ipv4_regex.search(address)\n",
    "    if mo:\n",
    "        return True\n",
    "    return False\n",
    "\n",
    "ipv4_address(\"139.0.126.234\")"
   ]
  },
  {
   "source": [
    "## Remove HTML tags from the string\n",
    "\n",
    "https://www.codewars.com/kata/58488e89cc8feac6cb000941/train/python"
   ],
   "cell_type": "markdown",
   "metadata": {}
  },
  {
   "cell_type": "code",
   "execution_count": 77,
   "metadata": {},
   "outputs": [
    {
     "output_type": "stream",
     "name": "stdout",
     "text": [
      "go to start page\n"
     ]
    }
   ],
   "source": [
    "from re import sub\n",
    "\n",
    "def trim_html_tags(string: str) -> str:\n",
    "    return re.sub(\"<.*?>\", \"\", string) # *? for not greedy mode\n",
    "\n",
    "print(trim_html_tags(\"<a href='#'>go to <b>start</b> page</a>\"))"
   ]
  },
  {
   "source": [
    "## Is it all whitespaces\n",
    "\n",
    "https://www.codewars.com/kata/567de8823fa5eee02100002a/train/python"
   ],
   "cell_type": "markdown",
   "metadata": {}
  },
  {
   "cell_type": "code",
   "execution_count": 142,
   "metadata": {},
   "outputs": [
    {
     "output_type": "execute_result",
     "data": {
      "text/plain": [
       "True"
      ]
     },
     "metadata": {},
     "execution_count": 142
    }
   ],
   "source": [
    "import re\n",
    "\n",
    "\n",
    "def whitespace(string: str) -> bool:\n",
    "    regex = re.compile(r\"^\\s*$\")\n",
    "    mo = regex.search(string)\n",
    "    return bool(mo)\n",
    "\n",
    "\n",
    "whitespace(\"\")"
   ]
  },
  {
   "source": [
    "## Weird IPv6 hex string parsing\n",
    "\n",
    "https://www.codewars.com/kata/5f5bc8a04e485f002d85b303/train/python"
   ],
   "cell_type": "markdown",
   "metadata": {}
  },
  {
   "cell_type": "code",
   "execution_count": 159,
   "metadata": {},
   "outputs": [
    {
     "output_type": "execute_result",
     "data": {
      "text/plain": [
       "'262622392535240'"
      ]
     },
     "metadata": {},
     "execution_count": 159
    }
   ],
   "source": [
    "from re import split\n",
    "\n",
    "\n",
    "def parse_IPv6(iPv6: str) -> str:\n",
    "    hexes = split(\"[^0-9A-F]\", iPv6)\n",
    "    hex_sum_list = []\n",
    "    for hex in hexes:\n",
    "        sum = 0\n",
    "        for char in hex:\n",
    "            sum += int(char, 16)\n",
    "        hex_sum_list.append(sum)\n",
    "    return \"\".join(str(hex) for hex in hex_sum_list)\n",
    "\n",
    "parse_IPv6(\"1B1D:AF01:3847:F8C4:20E9:0111:DFEA:AAAA\")\n",
    "    "
   ]
  },
  {
   "cell_type": "code",
   "execution_count": null,
   "metadata": {},
   "outputs": [],
   "source": []
  }
 ]
}