{
 "metadata": {
  "language_info": {
   "codemirror_mode": {
    "name": "ipython",
    "version": 3
   },
   "file_extension": ".py",
   "mimetype": "text/x-python",
   "name": "python",
   "nbconvert_exporter": "python",
   "pygments_lexer": "ipython3",
   "version": "3.8.1"
  },
  "orig_nbformat": 2,
  "kernelspec": {
   "name": "python381jvsc74a57bd0b5019f1fd57e5c3eaa3604d83f00f0d6f2fe5cf053b693b16f8dd3bf0362f824",
   "display_name": "Python 3.8.1 64-bit"
  }
 },
 "nbformat": 4,
 "nbformat_minor": 2,
 "cells": [
  {
   "source": [
    "## Capitilize each word\n",
    "\n",
    "\n",
    ">  https://www.codewars.com/kata/5390bac347d09b7da40006f6/train/python"
   ],
   "cell_type": "markdown",
   "metadata": {}
  },
  {
   "cell_type": "code",
   "execution_count": 17,
   "metadata": {},
   "outputs": [
    {
     "output_type": "stream",
     "name": "stdout",
     "text": [
      "How Can Mirrors Be Real If Our Eyes Aren't Real\n"
     ]
    }
   ],
   "source": [
    "def to_jaden_case(string: str) -> str:\n",
    "    \"\"\"Capitilize each word of the sentence.\"\"\"\n",
    "    # one liner solution:\n",
    "    # return \" \".join([ i.capitalize() for i in  string.split(\" \") ])\n",
    "    \n",
    "    li = string.split(\" \")\n",
    "    li_capitilized = [ i.capitalize() for i in li ]\n",
    "    final_str = \" \".join(li_capitilized)\n",
    "    \n",
    "    return final_str\n",
    "\n",
    "print(to_jaden_case(\"How can mirrors be real if our eyes aren't real\"))"
   ]
  },
  {
   "source": [
    "### Same as above but with one line"
   ],
   "cell_type": "markdown",
   "metadata": {}
  },
  {
   "source": [
    "def to_jaden_case2(string: str) -> str:\n",
    "    return \" \".join([ i.capitalize() for i in  string.split(\" \") ])\n",
    "\n",
    "print(to_jaden_case2(\"How can mirrors be real if our eyes aren't real\"))"
   ],
   "cell_type": "code",
   "metadata": {},
   "execution_count": null,
   "outputs": []
  },
  {
   "cell_type": "code",
   "execution_count": null,
   "metadata": {},
   "outputs": [],
   "source": []
  },
  {
   "source": [
    "### Using \"string\" module\n"
   ],
   "cell_type": "markdown",
   "metadata": {}
  },
  {
   "cell_type": "code",
   "execution_count": 23,
   "metadata": {},
   "outputs": [
    {
     "output_type": "stream",
     "name": "stdout",
     "text": [
      "How Can Mirrors Be Real If Our Eyes Aren't Real\n"
     ]
    }
   ],
   "source": [
    "import string\n",
    "\n",
    "def toJadenCase(tweet):\n",
    "    # using import string cap words does it all for you (split, capitalize, join)\n",
    "    return string.capwords(tweet)\n",
    "\n",
    "print(toJadenCase(\"How can mirrors be real if our eyes aren't real\"))"
   ]
  },
  {
   "cell_type": "code",
   "execution_count": null,
   "metadata": {},
   "outputs": [],
   "source": []
  }
 ]
}