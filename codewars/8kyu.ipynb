{
 "metadata": {
  "language_info": {
   "codemirror_mode": {
    "name": "ipython",
    "version": 3
   },
   "file_extension": ".py",
   "mimetype": "text/x-python",
   "name": "python",
   "nbconvert_exporter": "python",
   "pygments_lexer": "ipython3",
   "version": "3.8.1"
  },
  "orig_nbformat": 2,
  "kernelspec": {
   "name": "python381jvsc74a57bd087e9f9d6fb95569397596dcd0d81ee28cb3994f98858202ea92bee48ec9453fa",
   "display_name": "Python 3.8.1 64-bit ('3.8.1')"
  }
 },
 "nbformat": 4,
 "nbformat_minor": 2,
 "cells": [
  {
   "source": [
    "# String repeat\n",
    "\n",
    "> https://www.codewars.com/kata/57a0e5c372292dd76d000d7e\n",
    "\n",
    "Write a function called repeatStr which repeats the given string string exactly n times.\n",
    "\n",
    "```python\n",
    "repeatStr(6, \"I\") // \"IIIIII\"\n",
    "repeatStr(5, \"Hello\") // \"HelloHelloHelloHelloHello\"\n",
    "```"
   ],
   "cell_type": "markdown",
   "metadata": {}
  },
  {
   "cell_type": "code",
   "execution_count": 1,
   "metadata": {},
   "outputs": [
    {
     "output_type": "execute_result",
     "data": {
      "text/plain": [
       "'hellohellohellohello'"
      ]
     },
     "metadata": {},
     "execution_count": 1
    }
   ],
   "source": [
    "def repeat_str(repeat: int, string: str) -> str:\n",
    "    \"\"\"\n",
    "    Function called repeatStr \n",
    "    which repeats the given string string exactly n times.\n",
    "    \"\"\"\n",
    "    result = \"\"\n",
    "    for i in range(repeat):\n",
    "        result += string\n",
    "    return result\n",
    "\n",
    "def repeat_str2(repeat, string):\n",
    "    return \"\".join([string for i in range(repeat)])\n",
    "\n",
    "def repeat_str3(repeat, string):\n",
    "    return repeat * string\n",
    "\n",
    "repeat_str(4, \"hello\")"
   ]
  },
  {
   "cell_type": "code",
   "execution_count": null,
   "metadata": {},
   "outputs": [],
   "source": []
  }
 ]
}