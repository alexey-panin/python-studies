{
 "cells": [
  {
   "source": [
    "## Initialize and populate a dictionary"
   ],
   "cell_type": "markdown",
   "metadata": {}
  },
  {
   "cell_type": "code",
   "execution_count": 2,
   "metadata": {
    "collapsed": true
   },
   "outputs": [],
   "source": [
    "d = {}\n",
    "# d = {\"George\": 24, \"Tom\": 32}"
   ]
  },
  {
   "cell_type": "code",
   "execution_count": 14,
   "metadata": {
    "collapsed": true
   },
   "outputs": [],
   "source": [
    "d[\"George\"] = 24"
   ]
  },
  {
   "cell_type": "code",
   "execution_count": 15,
   "metadata": {
    "collapsed": true
   },
   "outputs": [],
   "source": [
    "d[\"Tom\"] = 32\n",
    "d[\"Jenny\"] = 16"
   ]
  },
  {
   "cell_type": "code",
   "execution_count": 16,
   "metadata": {},
   "outputs": [
    {
     "output_type": "stream",
     "name": "stdout",
     "text": [
      "24\n"
     ]
    }
   ],
   "source": [
    "print(d[\"George\"])"
   ]
  },
  {
   "cell_type": "code",
   "execution_count": null,
   "metadata": {},
   "outputs": [],
   "source": [
    "print(d[\"Tom\"])"
   ]
  },
  {
   "cell_type": "code",
   "execution_count": 17,
   "metadata": {},
   "outputs": [
    {
     "output_type": "error",
     "ename": "KeyError",
     "evalue": "'Alice'",
     "traceback": [
      "\u001b[0;31m---------------------------------------------------------------------------\u001b[0m",
      "\u001b[0;31mKeyError\u001b[0m                                  Traceback (most recent call last)",
      "\u001b[0;32m<ipython-input-17-36dc94b23fc1>\u001b[0m in \u001b[0;36m<module>\u001b[0;34m\u001b[0m\n\u001b[0;32m----> 1\u001b[0;31m \u001b[0mprint\u001b[0m\u001b[0;34m(\u001b[0m\u001b[0md\u001b[0m\u001b[0;34m[\u001b[0m\u001b[0;34m\"Alice\"\u001b[0m\u001b[0;34m]\u001b[0m\u001b[0;34m)\u001b[0m\u001b[0;34m\u001b[0m\u001b[0;34m\u001b[0m\u001b[0m\n\u001b[0m",
      "\u001b[0;31mKeyError\u001b[0m: 'Alice'"
     ]
    }
   ],
   "source": [
    "print(d[\"Alice\"])"
   ]
  },
  {
   "cell_type": "code",
   "execution_count": 7,
   "metadata": {},
   "outputs": [
    {
     "name": "stdout",
     "output_type": "stream",
     "text": [
      "16\n"
     ]
    }
   ],
   "source": [
    "print(d[\"Jenny\"])"
   ]
  },
  {
   "cell_type": "code",
   "execution_count": 18,
   "metadata": {
    "collapsed": true
   },
   "outputs": [],
   "source": [
    "d[\"Jenny\"] = 20"
   ]
  },
  {
   "cell_type": "code",
   "execution_count": 9,
   "metadata": {},
   "outputs": [
    {
     "name": "stdout",
     "output_type": "stream",
     "text": [
      "20\n"
     ]
    }
   ],
   "source": [
    "print(d[\"Jenny\"])"
   ]
  },
  {
   "source": [
    "## Dictionary keys are commongly strings or numbers. They can also be booleans."
   ],
   "cell_type": "markdown",
   "metadata": {}
  },
  {
   "cell_type": "code",
   "execution_count": 3,
   "metadata": {
    "collapsed": true
   },
   "outputs": [
    {
     "output_type": "stream",
     "name": "stdout",
     "text": [
      "100\n"
     ]
    }
   ],
   "source": [
    "d[10] = 100\n",
    "print(d[10])"
   ]
  },
  {
   "cell_type": "code",
   "execution_count": 4,
   "metadata": {},
   "outputs": [
    {
     "output_type": "stream",
     "name": "stdout",
     "text": [
      "key:\n10\nvalue:\n100\n\n"
     ]
    }
   ],
   "source": [
    "# how to iterate over key-value pairs?\n",
    "for key, value in d.items():\n",
    "    print(\"key:\")\n",
    "    print(key)\n",
    "    print(\"value:\")\n",
    "    print(value)\n",
    "    print(\"\")"
   ]
  },
  {
   "source": [
    "## Ways to merge dictionaries into one"
   ],
   "cell_type": "markdown",
   "metadata": {}
  },
  {
   "cell_type": "code",
   "execution_count": 25,
   "metadata": {},
   "outputs": [
    {
     "output_type": "stream",
     "name": "stdout",
     "text": [
      "{'a': 1, 'b': 2, 'c': 3, 'd': 4}\n"
     ]
    }
   ],
   "source": [
    "dict_a = {\"a\": 1, \"b\": 2}\n",
    "dict_b = {\"c\": 3, \"d\": 4}\n",
    "\n",
    "dict_merged = {**dict_a, **dict_b}\n",
    "print(dict_merged)"
   ]
  },
  {
   "source": [
    "## Ways to copy a dictionary"
   ],
   "cell_type": "markdown",
   "metadata": {}
  },
  {
   "cell_type": "code",
   "execution_count": 24,
   "metadata": {},
   "outputs": [
    {
     "output_type": "stream",
     "name": "stdout",
     "text": [
      "4458560384\n4458560384\n4458558080\n{'John': 32, 'Jane': 25}\n4458558464\n{'John', 'Jane'}\n{32, 25}\n{('Jane', 25), ('John', 32)}\n"
     ]
    }
   ],
   "source": [
    "my_dict = {\"John\": 32, \"Jane\": 25}\n",
    "print(id(my_dict))\n",
    "\n",
    "# that is not copying, it is assigning the same dict to another variable\n",
    "my_dict_2 = my_dict\n",
    "print(id(my_dict_2))\n",
    "\n",
    "# copying can be done 2 ways\n",
    "# 1. Using dict method \"copy\"\n",
    "\n",
    "my_dict_copied = my_dict.copy()\n",
    "print(id(my_dict_copied))\n",
    "\n",
    "# 2. by unpacking the values and packing them again into the new dictionary\n",
    "# note using of ** and not just * like in lists to copy the entire dictionary\n",
    "\n",
    "my_dict_copied_2 = {**my_dict}\n",
    "print(my_dict_copied_2)\n",
    "print(id(my_dict_copied_2))\n",
    "\n",
    "# From a dictionary one can make a new set from keys, values or tuples (containing key and value) like so\n",
    "\n",
    "my_set_keys = {*my_dict.keys()}\n",
    "print(my_set_keys)\n",
    "\n",
    "my_set_values = {*my_dict.values()}\n",
    "print(my_set_values)\n",
    "\n",
    "my_set_tuples = {*my_dict.items()}\n",
    "print(my_set_tuples)\n",
    "\n"
   ]
  },
  {
   "source": [
    "## Using Set and Dictionary Comprehensions"
   ],
   "cell_type": "markdown",
   "metadata": {}
  },
  {
   "source": [
    "### Set Comprehension\n",
    "\n",
    "A set comprehension is almost exactly the same as a list comprehension in Python. The difference is that set comprehensions make sure the output contains no duplicates. You can create a set comprehension by using curly braces instead of brackets.\n",
    "\n",
    "**Unlike lists, sets don’t guarantee that items will be saved in any particular order.**\n"
   ],
   "cell_type": "markdown",
   "metadata": {}
  },
  {
   "cell_type": "code",
   "execution_count": 1,
   "metadata": {},
   "outputs": [
    {
     "output_type": "stream",
     "name": "stdout",
     "text": [
      "{'i', 'u', 'a', 'e'}\n"
     ]
    }
   ],
   "source": [
    "quote = \"life, uh, finds a way\"\n",
    "unique_vowels = {i for i in quote if i in 'aeiou'}\n",
    "print(unique_vowels)"
   ]
  },
  {
   "source": [
    "### Dictionary Comprehension\n",
    "\n",
    "Dictionary comprehensions are similar, with the additional requirement of **defining a key**"
   ],
   "cell_type": "markdown",
   "metadata": {}
  },
  {
   "cell_type": "code",
   "execution_count": 2,
   "metadata": {},
   "outputs": [
    {
     "output_type": "stream",
     "name": "stdout",
     "text": [
      "{0: 0, 1: 1, 2: 4, 3: 9, 4: 16, 5: 25, 6: 36, 7: 49, 8: 64, 9: 81}\n"
     ]
    }
   ],
   "source": [
    "squares = {i: i * i for i in range(10)}\n",
    "print(squares)"
   ]
  },
  {
   "source": [
    "## Ways to iterate through Dictionary\n",
    "\n",
    "> https://realpython.com/iterate-through-dictionary-python/"
   ],
   "cell_type": "markdown",
   "metadata": {}
  },
  {
   "source": [
    "## Unpacking a dictionary using **operator** module"
   ],
   "cell_type": "markdown",
   "metadata": {}
  },
  {
   "cell_type": "code",
   "execution_count": 7,
   "metadata": {},
   "outputs": [
    {
     "output_type": "stream",
     "name": "stdout",
     "text": [
      "24 example@example.com M johndoe\nmaster degree 35 {'hobbie_1': 'skating', 'hobbie_2': 'diving'}\nskating diving\n"
     ]
    }
   ],
   "source": [
    "from operator import itemgetter\n",
    "\n",
    "current_user = {\n",
    "  \"id\": 24,\n",
    "  \"name\": \"John Doe\",\n",
    "  \"user_data\": {\n",
    "      \"education\": \"master degree\",\n",
    "      \"age\": 35,\n",
    "      \"hobbies\": {\n",
    "          \"hobbie_1\": \"skating\",\n",
    "          \"hobbie_2\": \"diving\"\n",
    "      }\n",
    "  },\n",
    "  \"website\": \"http://mywebsite.com\",\n",
    "  \"description\": \"I am an actor\",\n",
    "  \"email\": \"example@example.com\",\n",
    "  \"gender\": \"M\",\n",
    "  \"phone_number\": \"+12345678\",\n",
    "  \"username\": \"johndoe\",\n",
    "  \"birth_date\": \"1991-02-23\",\n",
    "  \"followers\": 46263,\n",
    "  \"following\": 345,\n",
    "  \"like\": 204,\n",
    "  \"comments\": 9\n",
    "}\n",
    "\n",
    "id, email, gender, username = itemgetter('id', 'email', 'gender', 'username')(current_user)\n",
    "print(id, email, gender, username)\n",
    "\n",
    "# unpacking from nested dictionary\n",
    "education, age, hobbies = itemgetter(\"education\", \"age\", \"hobbies\")(current_user[\"user_data\"])\n",
    "print(education, age, hobbies)\n",
    "\n",
    "# upacking even deeper levels\n",
    "hobbie_1, hobbie_2 = itemgetter(\"hobbie_1\", \"hobbie_2\")(current_user[\"user_data\"][\"hobbies\"])\n",
    "print(hobbie_1, hobbie_2)\n"
   ]
  },
  {
   "cell_type": "code",
   "execution_count": null,
   "metadata": {},
   "outputs": [],
   "source": []
  }
 ],
 "metadata": {
  "kernelspec": {
   "name": "python381jvsc74a57bd0b5019f1fd57e5c3eaa3604d83f00f0d6f2fe5cf053b693b16f8dd3bf0362f824",
   "display_name": "Python 3.8.1 64-bit"
  },
  "language_info": {
   "codemirror_mode": {
    "name": "ipython",
    "version": 3
   },
   "file_extension": ".py",
   "mimetype": "text/x-python",
   "name": "python",
   "nbconvert_exporter": "python",
   "pygments_lexer": "ipython3",
   "version": "3.8.1"
  },
  "metadata": {
   "interpreter": {
    "hash": "f20d46b891776a1b494589babd6507b7dcbdd589b2392b8b3a7cd9a76e866e3f"
   }
  }
 },
 "nbformat": 4,
 "nbformat_minor": 2
}